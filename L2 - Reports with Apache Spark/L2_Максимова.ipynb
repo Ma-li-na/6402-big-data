{
  "cells": [
    {
      "cell_type": "code",
      "execution_count": null,
      "metadata": {
        "colab": {
          "base_uri": "https://localhost:8080/"
        },
        "id": "U_H0ej2xvBto",
        "outputId": "a35cf92d-128c-4cc2-e48d-f68025137bdd"
      },
      "outputs": [
        {
          "name": "stdout",
          "output_type": "stream",
          "text": [
            "\r0% [Working]\r            \rGet:1 https://cloud.r-project.org/bin/linux/ubuntu jammy-cran40/ InRelease [3,632 B]\n",
            "\r0% [Waiting for headers] [Waiting for headers] [1 InRelease 3,632 B/3,632 B 100%] [Connecting to r2u\r0% [Waiting for headers] [Waiting for headers] [Connecting to r2u.stat.illinois.edu] [Waiting for he\r                                                                                                    \rGet:2 https://developer.download.nvidia.com/compute/cuda/repos/ubuntu2204/x86_64  InRelease [1,581 B]\n",
            "\r0% [Waiting for headers] [Waiting for headers] [Connecting to r2u.stat.illinois.edu] [2 InRelease 1,\r0% [Waiting for headers] [Waiting for headers] [Connecting to r2u.stat.illinois.edu] [Waiting for he\r                                                                                                    \rHit:3 http://archive.ubuntu.com/ubuntu jammy InRelease\n",
            "Get:4 http://security.ubuntu.com/ubuntu jammy-security InRelease [129 kB]\n",
            "Get:5 http://archive.ubuntu.com/ubuntu jammy-updates InRelease [128 kB]\n",
            "Get:6 https://ppa.launchpadcontent.net/deadsnakes/ppa/ubuntu jammy InRelease [18.1 kB]\n",
            "Get:7 https://ppa.launchpadcontent.net/graphics-drivers/ppa/ubuntu jammy InRelease [24.3 kB]\n",
            "Hit:8 https://ppa.launchpadcontent.net/ubuntugis/ppa/ubuntu jammy InRelease\n",
            "Get:9 https://developer.download.nvidia.com/compute/cuda/repos/ubuntu2204/x86_64  Packages [1,375 kB]\n",
            "Get:10 https://r2u.stat.illinois.edu/ubuntu jammy InRelease [6,555 B]\n",
            "Get:11 http://archive.ubuntu.com/ubuntu jammy-backports InRelease [127 kB]\n",
            "Get:12 https://ppa.launchpadcontent.net/deadsnakes/ppa/ubuntu jammy/main amd64 Packages [33.6 kB]\n",
            "Get:13 https://ppa.launchpadcontent.net/graphics-drivers/ppa/ubuntu jammy/main amd64 Packages [46.8 kB]\n",
            "Get:14 http://security.ubuntu.com/ubuntu jammy-security/main amd64 Packages [2,692 kB]\n",
            "Get:15 http://archive.ubuntu.com/ubuntu jammy-updates/universe amd64 Packages [1,533 kB]\n",
            "Get:16 https://r2u.stat.illinois.edu/ubuntu jammy/main amd64 Packages [2,673 kB]\n",
            "Get:17 http://security.ubuntu.com/ubuntu jammy-security/restricted amd64 Packages [3,798 kB]\n",
            "Get:18 http://archive.ubuntu.com/ubuntu jammy-updates/main amd64 Packages [3,000 kB]\n",
            "Get:19 https://r2u.stat.illinois.edu/ubuntu jammy/main all Packages [8,748 kB]\n",
            "Fetched 24.3 MB in 3s (7,066 kB/s)\n",
            "Reading package lists... Done\n",
            "W: Skipping acquire of configured file 'main/source/Sources' as repository 'https://r2u.stat.illinois.edu/ubuntu jammy InRelease' does not seem to provide it (sources.list entry misspelt?)\n"
          ]
        }
      ],
      "source": [
        "# Java\n",
        "!apt-get update\n",
        "!apt-get install openjdk-8-jdk-headless -qq > /dev/null"
      ]
    },
    {
      "cell_type": "code",
      "execution_count": null,
      "metadata": {
        "colab": {
          "base_uri": "https://localhost:8080/"
        },
        "id": "Gh5Ac8HYvkbg",
        "outputId": "da7a9679-74b0-44b2-af06-41aaa781262a"
      },
      "outputs": [
        {
          "name": "stdout",
          "output_type": "stream",
          "text": [
            "--2025-03-17 07:02:36--  https://archive.apache.org/dist/spark/spark-3.1.1/spark-3.1.1-bin-hadoop3.2.tgz\n",
            "Resolving archive.apache.org (archive.apache.org)... 65.108.204.189, 2a01:4f9:1a:a084::2\n",
            "Connecting to archive.apache.org (archive.apache.org)|65.108.204.189|:443... connected.\n",
            "HTTP request sent, awaiting response... 200 OK\n",
            "Length: 228721937 (218M) [application/x-gzip]\n",
            "Saving to: ‘spark-3.1.1-bin-hadoop3.2.tgz’\n",
            "\n",
            "spark-3.1.1-bin-had 100%[===================>] 218.13M  12.0MB/s    in 16s     \n",
            "\n",
            "2025-03-17 07:02:53 (13.3 MB/s) - ‘spark-3.1.1-bin-hadoop3.2.tgz’ saved [228721937/228721937]\n",
            "\n"
          ]
        }
      ],
      "source": [
        "# Spark\n",
        "!wget https://archive.apache.org/dist/spark/spark-3.1.1/spark-3.1.1-bin-hadoop3.2.tgz\n",
        "!tar xf spark-3.1.1-bin-hadoop3.2.tgz"
      ]
    },
    {
      "cell_type": "code",
      "execution_count": null,
      "metadata": {
        "id": "1FlXARTFyoyO"
      },
      "outputs": [],
      "source": [
        "# Настройка переменных окружения\n",
        "import os\n",
        "os.environ[\"JAVA_HOME\"] = \"/usr/lib/jvm/java-8-openjdk-amd64\"\n",
        "os.environ[\"SPARK_HOME\"] = \"/content/spark-3.1.1-bin-hadoop3.2\""
      ]
    },
    {
      "cell_type": "code",
      "execution_count": null,
      "metadata": {
        "id": "Vrbs-JZXytIN"
      },
      "outputs": [],
      "source": [
        "# Установка findspark\n",
        "!pip install -q findspark"
      ]
    },
    {
      "cell_type": "code",
      "execution_count": null,
      "metadata": {
        "id": "VrFef9rRyx7d"
      },
      "outputs": [],
      "source": [
        "# Инициализация findspark\n",
        "import findspark\n",
        "findspark.init()"
      ]
    },
    {
      "cell_type": "code",
      "execution_count": null,
      "metadata": {
        "colab": {
          "base_uri": "https://localhost:8080/"
        },
        "id": "GsKaTavT3K2B",
        "outputId": "7810854c-04d7-41ab-ba77-bbed54ff21b3"
      },
      "outputs": [
        {
          "name": "stdout",
          "output_type": "stream",
          "text": [
            "Requirement already satisfied: pyspark in /usr/local/lib/python3.11/dist-packages (3.5.5)\n",
            "Requirement already satisfied: py4j==0.10.9.7 in /usr/local/lib/python3.11/dist-packages (from pyspark) (0.10.9.7)\n"
          ]
        }
      ],
      "source": [
        "!pip install pyspark\n"
      ]
    },
    {
      "cell_type": "markdown",
      "metadata": {
        "id": "DbGyPj-s2KhA"
      },
      "source": [
        "**Проверка установки. Инициализация сессии, импорт необходимых далее библиотем**"
      ]
    },
    {
      "cell_type": "code",
      "execution_count": null,
      "metadata": {
        "colab": {
          "base_uri": "https://localhost:8080/"
        },
        "id": "Jvc6T3562G2G",
        "outputId": "60255813-9b0d-4c65-e41a-32cfee08cd55"
      },
      "outputs": [
        {
          "name": "stdout",
          "output_type": "stream",
          "text": [
            "3.1.1\n"
          ]
        }
      ],
      "source": [
        "# Создание SparkContext (проверка установки)\n",
        "import re\n",
        "from pyspark.sql.functions import udf, col, year, lit, when, explode, regexp_replace, lower, split, rank\n",
        "from typing import List\n",
        "import pyspark.sql as sql\n",
        "from pyspark import SparkContext, SparkConf\n",
        "from pyspark.sql import SparkSession\n",
        "from pyspark.sql.window import Window\n",
        "from pyspark.sql.types import DoubleType, IntegerType, ArrayType, StringType\n",
        "from pyspark.sql.functions import max, sum, desc, countDistinct\n",
        "import os\n",
        "\n",
        "spark = SparkSession \\\n",
        "    .builder \\\n",
        "    .appName(\"L2_reports_with_apache_spark\") \\\n",
        "    .config(\"spark.jars.packages\", \"com.databricks:spark-xml_2.12:0.13.0\")\\\n",
        "    .getOrCreate()\n",
        "\n",
        "sc = spark.sparkContext\n",
        "\n",
        "print(sc.version)"
      ]
    },
    {
      "cell_type": "markdown",
      "metadata": {
        "id": "rst_W-uc2fCi"
      },
      "source": [
        "**Загрузка данных**"
      ]
    },
    {
      "cell_type": "code",
      "execution_count": null,
      "metadata": {
        "colab": {
          "base_uri": "https://localhost:8080/"
        },
        "id": "dw74DHRh6Au7",
        "outputId": "4b67e88e-af6d-44fd-969a-557fb1243cac"
      },
      "outputs": [
        {
          "name": "stdout",
          "output_type": "stream",
          "text": [
            "Posts\n",
            "root\n",
            " |-- _AcceptedAnswerId: long (nullable = true)\n",
            " |-- _AnswerCount: long (nullable = true)\n",
            " |-- _Body: string (nullable = true)\n",
            " |-- _ClosedDate: timestamp (nullable = true)\n",
            " |-- _CommentCount: long (nullable = true)\n",
            " |-- _CommunityOwnedDate: timestamp (nullable = true)\n",
            " |-- _CreationDate: timestamp (nullable = true)\n",
            " |-- _FavoriteCount: long (nullable = true)\n",
            " |-- _Id: long (nullable = true)\n",
            " |-- _LastActivityDate: timestamp (nullable = true)\n",
            " |-- _LastEditDate: timestamp (nullable = true)\n",
            " |-- _LastEditorDisplayName: string (nullable = true)\n",
            " |-- _LastEditorUserId: long (nullable = true)\n",
            " |-- _OwnerDisplayName: string (nullable = true)\n",
            " |-- _OwnerUserId: long (nullable = true)\n",
            " |-- _ParentId: long (nullable = true)\n",
            " |-- _PostTypeId: long (nullable = true)\n",
            " |-- _Score: long (nullable = true)\n",
            " |-- _Tags: string (nullable = true)\n",
            " |-- _Title: string (nullable = true)\n",
            " |-- _ViewCount: long (nullable = true)\n",
            "\n"
          ]
        }
      ],
      "source": [
        "posts_data = spark.read.format('xml').options(rowTag='row').load('posts_sample.xml')\n",
        "print(\"Posts\")\n",
        "posts_data.printSchema()"
      ]
    },
    {
      "cell_type": "code",
      "execution_count": null,
      "metadata": {
        "colab": {
          "base_uri": "https://localhost:8080/"
        },
        "id": "4MQIdvIA13Z6",
        "outputId": "b66b57df-7b64-46ef-8cbb-3b884f683d40"
      },
      "outputs": [
        {
          "name": "stdout",
          "output_type": "stream",
          "text": [
            "Programming languages\n",
            "root\n",
            " |-- name: string (nullable = true)\n",
            " |-- wikipedia_url: string (nullable = true)\n",
            "\n"
          ]
        }
      ],
      "source": [
        "prog_lang_data = spark.read\\\n",
        ".option(\"header\", True)\\\n",
        ".option(\"inferSchema\", True)\\\n",
        ".option(\"timestampFormat\", 'M/d/y H:m')\\\n",
        ".csv('programming-languages.csv')\n",
        "print(\"Programming languages\")\n",
        "prog_lang_data.printSchema()"
      ]
    },
    {
      "cell_type": "markdown",
      "metadata": {
        "id": "b4-Xben4Axbq"
      },
      "source": [
        "**Выполнение задания**\n",
        "\n",
        "Задание: Сформировать отчёт с информацией о 10 наиболее популярных языках программирования по итогам года за период с 2010 по 2020 годы. Отчёт будет отражать динамику изменения популярности языков программирования и представлять собой набор таблиц \"топ-10\" для каждого года. Получившийся отчёт сохранить в формате Apache Parquet."
      ]
    },
    {
      "cell_type": "code",
      "execution_count": 43,
      "metadata": {
        "id": "g-Ck-nsiDxtA"
      },
      "outputs": [],
      "source": [
        "# Извлекаем список названий языков из DataFrame prog_lang_data\n",
        "programming_languages = [row[0].lower() for row in prog_lang_data.select(\"name\").collect()]\n",
        "# Создаем Broadcast Variable для списка языков\n",
        "programming_languages_bc = sc.broadcast(programming_languages)"
      ]
    },
    {
      "cell_type": "code",
      "execution_count": 47,
      "metadata": {
        "colab": {
          "base_uri": "https://localhost:8080/"
        },
        "id": "fvluIS0Z7WKf",
        "outputId": "dc9dace7-93eb-4ee5-a381-e41739cee860"
      },
      "outputs": [
        {
          "name": "stdout",
          "output_type": "stream",
          "text": [
            "1 Row(tags=['', 'c#', '', 'floating-point', '', 'type-conversion', '', 'double', '', 'decimal', ''], year=2019, views=42817)\n",
            "2 Row(tags=['', 'html', '', 'css', '', 'internet-explorer-7', ''], year=2019, views=18214)\n",
            "3 Row(tags=[''], year=2017, views=None)\n",
            "4 Row(tags=['', 'c#', '', '.net', '', 'datetime', ''], year=2019, views=555183)\n",
            "5 Row(tags=['', 'c#', '', 'datetime', '', 'time', '', 'datediff', '', 'relative-time-span', ''], year=2019, views=149445)\n",
            "6 Row(tags=[''], year=2018, views=None)\n",
            "7 Row(tags=['', 'html', '', 'browser', '', 'timezone', '', 'user-agent', '', 'timezone-offset', ''], year=2019, views=176405)\n",
            "8 Row(tags=['', '.net', '', 'math', ''], year=2018, views=123231)\n",
            "9 Row(tags=[''], year=2010, views=None)\n",
            "10 Row(tags=[''], year=2010, views=None)\n"
          ]
        }
      ],
      "source": [
        "# Создаем столбец с массивом тегов, используя split и regexp_replace\n",
        "posts_data = posts_data.withColumn(\"tags\",\n",
        "    when(col(\"_Tags\").isNull(), lit(None).cast(ArrayType(StringType()))) # Обработка None\n",
        "    .otherwise(split(regexp_replace(col(\"_Tags\"), \"[<>]\", \",\"), \",\")) # Замена символов и разделение\n",
        ")\n",
        "\n",
        "# Извлекаем год из столбца \"_LastActivityDate\" и создаем новый столбец \"year\"\n",
        "posts_data_simplified = posts_data \\\n",
        "    .withColumn(\"year\", year(col(\"_LastActivityDate\")))\n",
        "\n",
        "# Выбираем только столбцы \"tags\", \"year\" и \"_ViewCount\", переименовывая \"_ViewCount\" в \"views\"\n",
        "posts_data_simplified = posts_data_simplified.select(\n",
        "    col(\"tags\"),\n",
        "    col(\"year\"),\n",
        "    col(\"_ViewCount\").alias(\"views\")\n",
        ")\n",
        "\n",
        "# Получаем первые 10 строк результирующего DataFrame\n",
        "first_rows = posts_data_simplified.head(10)\n",
        "\n",
        "# Выводим строки\n",
        "for i, row in enumerate(first_rows):\n",
        "    print(i+1, row)"
      ]
    },
    {
      "cell_type": "code",
      "execution_count": null,
      "metadata": {
        "colab": {
          "base_uri": "https://localhost:8080/"
        },
        "id": "zEFtiHII1_9x",
        "outputId": "40843e14-ec3b-4f53-8325-26c00e7c99bf"
      },
      "outputs": [
        {
          "name": "stdout",
          "output_type": "stream",
          "text": [
            "+----+-----------+-----------+\n",
            "|year|        tag|total_views|\n",
            "+----+-----------+-----------+\n",
            "|2008|       java|      11532|\n",
            "|2008|       ruby|       1843|\n",
            "|2008|        x++|       1363|\n",
            "|2009|     python|      32219|\n",
            "|2009| javascript|      17139|\n",
            "|2009|          c|      16356|\n",
            "|2009|       java|      13533|\n",
            "|2009|        php|      12876|\n",
            "|2009|       bash|       4410|\n",
            "|2009|    haskell|       3992|\n",
            "|2009|      xpath|       3869|\n",
            "|2009|objective-c|       3671|\n",
            "|2009|     delphi|       3477|\n",
            "|2009|       ruby|       2844|\n",
            "|2009| powershell|        536|\n",
            "+----+-----------+-----------+\n",
            "only showing top 15 rows\n",
            "\n"
          ]
        }
      ],
      "source": [
        "# Развертываем массив тегов в отдельные строки\n",
        "posts_data_simplified = posts_data_simplified.withColumn(\"tag\", explode(col(\"tags\")))\n",
        "\n",
        "posts_data_simplified = posts_data_simplified.select(\n",
        "    col(\"tag\"),\n",
        "    col(\"year\"),\n",
        "    col(\"views\")\n",
        ")\n",
        "\n",
        "# Фильтруем DataFrame, чтобы оставить только теги, которые являются языками программирования\n",
        "filtered_posts_data = posts_data_simplified.filter(lower(col(\"tag\")).isin(programming_languages))\n",
        "\n",
        "# Группировка по году последней активности и тегам, суммирование всех просмотров для каждого языка программирования в пределах одного года\n",
        "posts_data_sorted = filtered_posts_data.groupBy(\"year\", \"tag\").agg(sum(\"views\").alias(\"total_views\"))\n",
        "\n",
        "# Убираем строки с пустым тегом\n",
        "posts_data_sorted = posts_data_sorted.filter(posts_data_sorted[\"tag\"] != \"\")\n",
        "\n",
        "# Сортировка по году и убыванию total_views\n",
        "posts_data_sorted = posts_data_sorted.orderBy(\"year\", desc(\"total_views\"))\n",
        "posts_data_sorted.show(15)"
      ]
    },
    {
      "cell_type": "code",
      "execution_count": null,
      "metadata": {
        "colab": {
          "base_uri": "https://localhost:8080/"
        },
        "id": "1JQp45_U4E_v",
        "outputId": "8382d945-4fd5-4600-f323-05f7c47201b4"
      },
      "outputs": [
        {
          "name": "stdout",
          "output_type": "stream",
          "text": [
            "+----+-----------+-----------+\n",
            "|year|        tag|total_views|\n",
            "+----+-----------+-----------+\n",
            "|2010|       java|      53333|\n",
            "|2010|     matlab|      51865|\n",
            "|2010|objective-c|      43878|\n",
            "|2010|        php|      39730|\n",
            "|2010| javascript|      37059|\n",
            "|2010|     python|      25930|\n",
            "|2010|       ruby|      15864|\n",
            "|2010|          c|      13810|\n",
            "|2010|     delphi|       7680|\n",
            "|2010|          r|       7499|\n",
            "|2011|       java|     121315|\n",
            "|2011|     python|      89637|\n",
            "|2011|          c|      73116|\n",
            "|2011|        php|      67341|\n",
            "|2011| javascript|      61631|\n",
            "|2011|objective-c|      54815|\n",
            "|2011|          r|      14394|\n",
            "|2011|       ruby|       9771|\n",
            "|2011|     cython|       8109|\n",
            "|2011|     delphi|       6724|\n",
            "+----+-----------+-----------+\n",
            "only showing top 20 rows\n",
            "\n"
          ]
        }
      ],
      "source": [
        "#  Определяем спецификацию Window, разбитую по годам и упорядоченную в порядке убывания по показателю total_views\n",
        "window_spec = Window.partitionBy(\"year\").orderBy(posts_data_sorted[\"total_views\"].desc())\n",
        "# Выбираем данные с 2010 по 2020 года\n",
        "posts_data_sorted = posts_data_sorted.filter((col(\"year\") >= 2010) & (col(\"year\") <= 2020))\n",
        "# Вычисляем ранг каждой строки в пределах каждого года на основе total_views и добавляем его в новый столбец \"rank\".\n",
        "ranked_df = posts_data_sorted.withColumn(\"rank\", rank().over(window_spec))\n",
        "\n",
        "# Получаем топ-10 тегов по количеству просмотров для каждого года.\n",
        "result_df = ranked_df.filter(ranked_df[\"rank\"] <= 10)\n",
        "# Оставляем только нужную информацию для конечного результата.\n",
        "result_df = result_df.select(\"year\", \"tag\", \"total_views\")\n",
        "#ГРуппируем вывод информации по годам в убывающем порядке\n",
        "data_sort = result_df.orderBy(\"year\", desc(\"total_views\"))\n",
        "data_sort.show()\n"
      ]
    },
    {
      "cell_type": "code",
      "execution_count": null,
      "metadata": {
        "id": "fqVdlyTa5f6t"
      },
      "outputs": [],
      "source": [
        "# создаем отчет\n",
        "data_sort.write.parquet(\"result.parquet\")"
      ]
    },
    {
      "cell_type": "code",
      "execution_count": null,
      "metadata": {
        "id": "POsAoB264I2F"
      },
      "outputs": [],
      "source": [
        "# Удаление результатов\n",
        "import shutil\n",
        "shutil.rmtree(\"result.parquet\")"
      ]
    },
    {
      "cell_type": "code",
      "execution_count": null,
      "metadata": {
        "id": "DU1kZCYl6AF9"
      },
      "outputs": [],
      "source": []
    }
  ],
  "metadata": {
    "colab": {
      "provenance": []
    },
    "kernelspec": {
      "display_name": "Python 3",
      "name": "python3"
    },
    "language_info": {
      "name": "python"
    }
  },
  "nbformat": 4,
  "nbformat_minor": 0
}
