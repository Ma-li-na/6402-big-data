{
 "cells": [
  {
   "cell_type": "markdown",
   "metadata": {
    "id": "82OvPKEiEqjc"
   },
   "source": [
    "# Введение в MapReduce модель на Python\n"
   ]
  },
  {
   "cell_type": "code",
   "execution_count": 1,
   "metadata": {
    "id": "JQ2cvXLjICmI"
   },
   "outputs": [],
   "source": [
    "from typing import NamedTuple # requires python 3.6+\n",
    "from typing import Iterator"
   ]
  },
  {
   "cell_type": "code",
   "execution_count": 2,
   "metadata": {
    "id": "yjPHumVwEyEg"
   },
   "outputs": [],
   "source": [
    "def MAP(_, row:NamedTuple):\n",
    "  #проверка, что пол женский. Если девушка, значение возращается\n",
    "  if (row.gender == 'female'):\n",
    "    yield (row.age, row)\n",
    "    \n",
    "def REDUCE(age:str, rows:Iterator[NamedTuple]):\n",
    "  sum = 0\n",
    "  count = 0\n",
    "  for row in rows:\n",
    "    # цикл по переданному rows\n",
    "    sum += row.social_contacts\n",
    "    count += 1\n",
    "  if (count > 0):\n",
    "    #возращается кортеж с возрастом и среднем суммы (если контакты были)\n",
    "    yield (age, sum/count)\n",
    "  else:\n",
    "    # если контактов нет, ничего не возращается\n",
    "    yield (age, 0)"
   ]
  },
  {
   "cell_type": "markdown",
   "metadata": {
    "id": "vBKMgpG_ilaZ"
   },
   "source": [
    "Модель элемента данных"
   ]
  },
  {
   "cell_type": "code",
   "execution_count": 3,
   "metadata": {
    "id": "Rv-XIjhTJPx3"
   },
   "outputs": [],
   "source": [
    "class User(NamedTuple):\n",
    "  #инициализируем класс user, в котором есть id, возраст, количество социальных контактов и пол\n",
    "  id: int\n",
    "  age: str\n",
    "  social_contacts: int\n",
    "  gender: str"
   ]
  },
  {
   "cell_type": "code",
   "execution_count": 4,
   "metadata": {
    "id": "5KV0Ze2vQgu5"
   },
   "outputs": [],
   "source": [
    "input_collection = [\n",
    "    #создаем начальный набор user-ов\n",
    "    User(id=0, age=55, gender='male', social_contacts=20),\n",
    "    User(id=1, age=25, gender='female', social_contacts=240),\n",
    "    User(id=2, age=25, gender='female', social_contacts=500),\n",
    "    User(id=3, age=33, gender='female', social_contacts=800)\n",
    "]"
   ]
  },
  {
   "cell_type": "markdown",
   "metadata": {
    "id": "YFeqzyZxZIFZ"
   },
   "source": [
    "Функция RECORDREADER моделирует чтение элементов с диска или по сети."
   ]
  },
  {
   "cell_type": "code",
   "execution_count": 5,
   "metadata": {
    "id": "S5HR4E_GQoMJ"
   },
   "outputs": [],
   "source": [
    "def RECORDREADER():\n",
    "  #генератор, который \"читает\" user-ов из input_collection и присваивает прочитанным элементам id.\n",
    "  #По прочтении возвращает id и сам прочитанный элемент (user-a)\n",
    "  return [(u.id, u) for u in input_collection]"
   ]
  },
  {
   "cell_type": "code",
   "execution_count": 6,
   "metadata": {
    "colab": {
     "base_uri": "https://localhost:8080/",
     "height": 85
    },
    "id": "NeEoWla-ROUy",
    "outputId": "94ca6e0e-4644-4282-acbf-1759d7ba2918"
   },
   "outputs": [
    {
     "data": {
      "text/plain": [
       "[(0, User(id=0, age=55, social_contacts=20, gender='male')),\n",
       " (1, User(id=1, age=25, social_contacts=240, gender='female')),\n",
       " (2, User(id=2, age=25, social_contacts=500, gender='female')),\n",
       " (3, User(id=3, age=33, social_contacts=800, gender='female'))]"
      ]
     },
     "execution_count": 6,
     "metadata": {},
     "output_type": "execute_result"
    }
   ],
   "source": [
    "# все прочитанное функцией сразу определяем как list\n",
    "list(RECORDREADER())"
   ]
  },
  {
   "cell_type": "code",
   "execution_count": 7,
   "metadata": {
    "id": "YB8orgPSZs8M"
   },
   "outputs": [],
   "source": [
    "def flatten(nested_iterable):\n",
    "  #данная функция ждет какой-то итерируемый объект, содержащий другие итерируемые объекты (например, список списков)\n",
    "  #после чего мы перебираем в [nested, iterable] iterable-лы (то есть элементы списка iterable), после чего возвращаем эти самые элементы\n",
    "  for iterable in nested_iterable:\n",
    "    for element in iterable:\n",
    "      yield element"
   ]
  },
  {
   "cell_type": "code",
   "execution_count": 8,
   "metadata": {
    "colab": {
     "base_uri": "https://localhost:8080/",
     "height": 68
    },
    "id": "74oyvDLaRmd5",
    "outputId": "c6147702-7153-47c7-a574-d5fe6abe29a8"
   },
   "outputs": [
    {
     "data": {
      "text/plain": [
       "[(25, User(id=1, age=25, social_contacts=240, gender='female')),\n",
       " (25, User(id=2, age=25, social_contacts=500, gender='female')),\n",
       " (33, User(id=3, age=33, social_contacts=800, gender='female'))]"
      ]
     },
     "execution_count": 8,
     "metadata": {},
     "output_type": "execute_result"
    }
   ],
   "source": [
    "# flatten - пример использования. мы применяем функцию MAP (отбор из списка только девушек) ко всем элементам, которые вернет RECORDREADER() \n",
    "# (это применение обеспечивается за счет использования map). Анонимная лямбда функция принимает кортеж вида (id, user). MAP(*x) - кортеж \n",
    "# распаковали и получили MAP(1, User(...)). \n",
    "map_output = flatten(map(lambda x: MAP(*x), RECORDREADER()))\n",
    "map_output = list(map_output) # materialize\n",
    "map_output"
   ]
  },
  {
   "cell_type": "code",
   "execution_count": 9,
   "metadata": {
    "id": "8ncYDJ3-VzDn"
   },
   "outputs": [],
   "source": [
    "def groupbykey(iterable):\n",
    "  # iterable - это итерируемый объект, содержащий кортежи, где первый элемент кортежа является ключом,\n",
    "  # t - словарь, идет цикл по кортежу iterable. k2 - ключ (возраст, для примера ниже), v2 - значения (инфа об user-е)\n",
    "  #  t.get(k2, []): Если ключ k2 уже существует в словаре, возвращает соответствующее значение. Если ключ k2 не существует, возвращает \n",
    "  # пустой список []. Потом прибавляется значение v2. То есть в данном случае код группирует те объекты у которых ключи одинаковы, \n",
    "  # и возвращает список с уникальными ключами\n",
    "  t = {}\n",
    "  for (k2, v2) in iterable:\n",
    "    t[k2] = t.get(k2, []) + [v2]\n",
    "  return t.items()"
   ]
  },
  {
   "cell_type": "code",
   "execution_count": 10,
   "metadata": {
    "colab": {
     "base_uri": "https://localhost:8080/",
     "height": 85
    },
    "id": "cKzY_6COWOA2",
    "outputId": "e6791b12-e409-47e9-bcd4-e9f8ca8611bd"
   },
   "outputs": [
    {
     "data": {
      "text/plain": [
       "[(25,\n",
       "  [User(id=1, age=25, social_contacts=240, gender='female'),\n",
       "   User(id=2, age=25, social_contacts=500, gender='female')]),\n",
       " (33, [User(id=3, age=33, social_contacts=800, gender='female')])]"
      ]
     },
     "execution_count": 10,
     "metadata": {},
     "output_type": "execute_result"
    }
   ],
   "source": [
    "shuffle_output = groupbykey(map_output)\n",
    "shuffle_output = list(shuffle_output)\n",
    "shuffle_output"
   ]
  },
  {
   "cell_type": "code",
   "execution_count": 11,
   "metadata": {
    "colab": {
     "base_uri": "https://localhost:8080/",
     "height": 34
    },
    "id": "NlA7lkDDYL0t",
    "outputId": "6b25d03f-5c92-4f3b-f500-6d70acd598b7"
   },
   "outputs": [
    {
     "data": {
      "text/plain": [
       "[(25, 370.0), (33, 800.0)]"
      ]
     },
     "execution_count": 11,
     "metadata": {},
     "output_type": "execute_result"
    }
   ],
   "source": [
    "# берем получившийся выше список, и поочередно прогоняем через REDUCE - эта функция возвращает либо возраст и количество соц контактов, \n",
    "# либо общий возраст и среднее количество соц контактов на всех представителей данного возраста. \n",
    "reduce_output = flatten(map(lambda x: REDUCE(*x), shuffle_output))\n",
    "reduce_output = list(reduce_output)\n",
    "reduce_output"
   ]
  },
  {
   "cell_type": "markdown",
   "metadata": {
    "id": "xf6qhHEtd6bI"
   },
   "source": [
    "Все действия одним конвейером!"
   ]
  },
  {
   "cell_type": "code",
   "execution_count": 12,
   "metadata": {
    "colab": {
     "base_uri": "https://localhost:8080/",
     "height": 34
    },
    "id": "dZaQGYxCdpw5",
    "outputId": "3f5c6425-e5c5-49d2-b2cd-ce58a9acc33c"
   },
   "outputs": [
    {
     "data": {
      "text/plain": [
       "[(25, 370.0), (33, 800.0)]"
      ]
     },
     "execution_count": 12,
     "metadata": {},
     "output_type": "execute_result"
    }
   ],
   "source": [
    "list(flatten(map(lambda x: REDUCE(*x), groupbykey(flatten(map(lambda x: MAP(*x), RECORDREADER()))))))"
   ]
  },
  {
   "cell_type": "markdown",
   "metadata": {
    "id": "Vq3EWRIpwSiJ"
   },
   "source": [
    "# **MapReduce**\n",
    "Выделим общую для всех пользователей часть системы в отдельную функцию высшего порядка. Это наиболее простая модель MapReduce, без учёта распределённого хранения данных. \n",
    "\n",
    "Пользователь для решения своей задачи реализует RECORDREADER, MAP, REDUCE."
   ]
  },
  {
   "cell_type": "code",
   "execution_count": 14,
   "metadata": {
    "id": "V1PZeQMwwVjc"
   },
   "outputs": [],
   "source": [
    "def flatten(nested_iterable):\n",
    "  for iterable in nested_iterable:\n",
    "    for element in iterable:\n",
    "      yield element\n",
    "\n",
    "def groupbykey(iterable):\n",
    "  t = {}\n",
    "  for (k2, v2) in iterable:\n",
    "    t[k2] = t.get(k2, []) + [v2]\n",
    "  return t.items()\n",
    "\n",
    "def MapReduce(RECORDREADER, MAP, REDUCE):\n",
    "  return flatten(map(lambda x: REDUCE(*x), groupbykey(flatten(map(lambda x: MAP(*x), RECORDREADER())))))"
   ]
  },
  {
   "cell_type": "markdown",
   "metadata": {
    "id": "iFIVrimep678"
   },
   "source": [
    "## Спецификация MapReduce\n",
    "\n",
    "\n",
    "\n",
    "```\n",
    "f (k1, v1) -> (k2,v2)*\n",
    "g (k2, v2*) -> (k3,v3)*\n",
    " \n",
    "mapreduce ((k1,v1)*) -> (k3,v3)*\n",
    "groupby ((k2,v2)*) -> (k2,v2*)*\n",
    "flatten (e2**) -> e2*\n",
    " \n",
    "mapreduce .map(f).flatten.groupby(k2).map(g).flatten\n",
    "```\n",
    "\n",
    "\n"
   ]
  },
  {
   "cell_type": "markdown",
   "metadata": {
    "id": "QtTFyqke3KGe"
   },
   "source": [
    "# Примеры"
   ]
  },
  {
   "cell_type": "markdown",
   "metadata": {
    "id": "BNhh5763w5Vn"
   },
   "source": [
    "## SQL "
   ]
  },
  {
   "cell_type": "code",
   "execution_count": 16,
   "metadata": {
    "colab": {
     "base_uri": "https://localhost:8080/",
     "height": 34
    },
    "id": "QkyurnvGxBGk",
    "outputId": "84761282-d2ba-435a-e8d7-a85150730e10"
   },
   "outputs": [
    {
     "data": {
      "text/plain": [
       "[(25, 370.0), (33, 800.0)]"
      ]
     },
     "execution_count": 16,
     "metadata": {},
     "output_type": "execute_result"
    }
   ],
   "source": [
    "from typing import NamedTuple # requires python 3.6+\n",
    "from typing import Iterator\n",
    "\n",
    "class User(NamedTuple):\n",
    "  id: int\n",
    "  age: str\n",
    "  social_contacts: int\n",
    "  gender: str\n",
    "    \n",
    "input_collection = [\n",
    "    User(id=0, age=55, gender='male', social_contacts=20),\n",
    "    User(id=1, age=25, gender='female', social_contacts=240),\n",
    "    User(id=2, age=25, gender='female', social_contacts=500),\n",
    "    User(id=3, age=33, gender='female', social_contacts=800)\n",
    "]\n",
    "\n",
    "def MAP(_, row:NamedTuple):\n",
    "  if (row.gender == 'female'):\n",
    "    yield (row.age, row)\n",
    "    \n",
    "def REDUCE(age:str, rows:Iterator[NamedTuple]):\n",
    "  sum = 0\n",
    "  count = 0\n",
    "  for row in rows:\n",
    "    sum += row.social_contacts\n",
    "    count += 1\n",
    "  if (count > 0):\n",
    "    yield (age, sum/count)\n",
    "  else:\n",
    "    yield (age, 0)\n",
    " \n",
    "def RECORDREADER():\n",
    "  return [(u.id, u) for u in input_collection]\n",
    "\n",
    "output = MapReduce(RECORDREADER, MAP, REDUCE)\n",
    "output = list(output)\n",
    "output"
   ]
  },
  {
   "cell_type": "markdown",
   "metadata": {
    "id": "kNKYIeerx0nY"
   },
   "source": [
    "## Matrix-Vector multiplication "
   ]
  },
  {
   "cell_type": "code",
   "execution_count": 17,
   "metadata": {
    "colab": {
     "base_uri": "https://localhost:8080/",
     "height": 102
    },
    "id": "rwcntRcCyi1V",
    "outputId": "606737ab-6b55-455c-931f-4fc45155f8a9"
   },
   "outputs": [
    {
     "data": {
      "text/plain": [
       "[(0, 1.2548250790451094),\n",
       " (1, 1.2548250790451094),\n",
       " (2, 1.2548250790451094),\n",
       " (3, 1.2548250790451094),\n",
       " (4, 1.2548250790451094)]"
      ]
     },
     "execution_count": 17,
     "metadata": {},
     "output_type": "execute_result"
    }
   ],
   "source": [
    "from typing import Iterator\n",
    "import numpy as np\n",
    "\n",
    "#начальные данные единичная матрица размером 5х4, вектор из 4 чисел в диапазоне от 0 до 1\n",
    "\n",
    "mat = np.ones((5,4))\n",
    "vec = np.random.rand(4) # in-memory vector in all map tasks\n",
    "\n",
    "def MAP(coordinates:(int, int), value:int):\n",
    "  #распаковка кортежа координат на i и j, возвращаем i и результат умножения элемента на элементр вектора [j] (умножение матрицы на вектор столбец поэлементно)\n",
    "  i, j = coordinates\n",
    "  yield (i, value*vec[j])\n",
    " \n",
    "def REDUCE(i:int, products:Iterator[NamedTuple]):\n",
    "#принимает индекст строки и Iterator\n",
    "  sum = 0\n",
    "  for p in products:\n",
    "  #Начинается цикл for, который перебирает значения (результаты умножения) из итератора products.\n",
    "    sum += p\n",
    "\n",
    "  #после пробега по всем продуктам возращает сумму\n",
    "  yield (i, sum)\n",
    "\n",
    "def RECORDREADER():\n",
    "  for i in range(mat.shape[0]):\n",
    "  #Внешний цикл for, который перебирает строки матрицы. mat.shape[0] возвращает количество строк в матрице.\n",
    "    for j in range(mat.shape[1]):\n",
    "    #Внутренний цикл for, который перебирает столбцы матрицы. mat.shape[1] возвращает количество столбцов в матрице.\n",
    "    # возращает кортеж с координатами и значение элемента, расположенного по этим координатам\n",
    "      yield ((i, j), mat[i,j])\n",
    "      \n",
    "output = MapReduce(RECORDREADER, MAP, REDUCE)\n",
    "output = list(output)\n",
    "output"
   ]
  },
  {
   "cell_type": "markdown",
   "metadata": {
    "id": "ruZREYdi2o4O"
   },
   "source": [
    "## Inverted index "
   ]
  },
  {
   "cell_type": "code",
   "execution_count": 18,
   "metadata": {
    "colab": {
     "base_uri": "https://localhost:8080/",
     "height": 102
    },
    "id": "vt9H9Alf3TYv",
    "outputId": "51aeffc9-e111-4607-bd84-cfcc7b56f238"
   },
   "outputs": [
    {
     "data": {
      "text/plain": [
       "[('what', ['0', '1']),\n",
       " ('is', ['0', '1', '2']),\n",
       " ('it', ['0', '1', '2']),\n",
       " ('banana', ['2']),\n",
       " ('a', ['2'])]"
      ]
     },
     "execution_count": 18,
     "metadata": {},
     "output_type": "execute_result"
    }
   ],
   "source": [
    "from typing import Iterator\n",
    "# определяем 3 строки\n",
    "d1 = \"it is what it is\"\n",
    "d2 = \"what is it\"\n",
    "d3 = \"it is a banana\"\n",
    "# создаем список, в котором содержатся все строки\n",
    "documents = [d1, d2, d3]\n",
    "\n",
    "def RECORDREADER():\n",
    "  #Перебирает элементы списка documents с помощью функции enumerate.  enumerate возвращает пары (индекс, элемент). \n",
    "  # docid - индекс текущей строки (начиная с 0).\n",
    "  # document - строка.\n",
    "  for (docid, document) in enumerate(documents):\n",
    "    yield (\"{}\".format(docid), document)\n",
    "      \n",
    "def MAP(docId:str, body:str):\n",
    "  #цикл перебирает уникальные слова в строке.\n",
    "  # body.split(' ') -  разбивает строку body на список слов, используя пробел как разделитель, после чего слова становятся множеством (фун-я set)\n",
    "  # for word in ... - перебирает каждое уникальное слово в множестве. После чего возвращается кортеж (слово, идентификатор строки)\n",
    "  for word in set(body.split(' ')):\n",
    "    yield (word, docId)\n",
    " \n",
    "def REDUCE(word:str, docIds:Iterator[str]):\n",
    "  # принимает (слово; идентификаторы строк, где встречается это слово)\n",
    "  # возвращает (слово; отсортированные по порядку идентификаторы строк)\n",
    "  yield (word, sorted(docIds))\n",
    "\n",
    "output = MapReduce(RECORDREADER, MAP, REDUCE)\n",
    "output = list(output)\n",
    "output"
   ]
  },
  {
   "cell_type": "markdown",
   "metadata": {
    "id": "R7az-6DA6qr2"
   },
   "source": [
    "## WordCount"
   ]
  },
  {
   "cell_type": "code",
   "execution_count": 19,
   "metadata": {
    "colab": {
     "base_uri": "https://localhost:8080/",
     "height": 34
    },
    "id": "dN-nbtgG6uYG",
    "outputId": "24117576-7931-401d-a581-28e246b23453"
   },
   "outputs": [
    {
     "data": {
      "text/plain": [
       "[('', 3), ('it', 9), ('is', 9), ('what', 5), ('a', 1), ('banana', 1)]"
      ]
     },
     "execution_count": 19,
     "metadata": {},
     "output_type": "execute_result"
    }
   ],
   "source": [
    "from typing import Iterator\n",
    "\n",
    "# определение строк и списка, включающего все строки\n",
    "\n",
    "d1 = \"\"\"\n",
    "it is what it is\n",
    "it is what it is\n",
    "it is what it is\"\"\"\n",
    "d2 = \"\"\"\n",
    "what is it\n",
    "what is it\"\"\"\n",
    "d3 = \"\"\"\n",
    "it is a banana\"\"\"\n",
    "documents = [d1, d2, d3]\n",
    "\n",
    "def RECORDREADER():\n",
    "  # Перебирает строки в списке documents вместе с их индексами.\n",
    "  for (docid, document) in enumerate(documents):\n",
    "    # Для каждой строки (d1, d2, d3) делает разбивку на строки (по \\n) и перебирает эти строки вместе с их индексами.\n",
    "    for (lineid, line) in enumerate(document.split('\\n')):\n",
    "      # возвращает (идентификатор строки, строку(без \\n))\n",
    "      yield (\"{}:{}\".format(docid,lineid), line)\n",
    "\n",
    "def MAP(docId:str, line:str):\n",
    "  # читает строки (d1, d2, d3) и разбивает их на слова\n",
    "  for word in line.split(\" \"):  \n",
    "    yield (word, 1)\n",
    " \n",
    "def REDUCE(word:str, counts:Iterator[int]):\n",
    "  # подсчет количества появления слова и возвращение (слово, количество появлений)\n",
    "  sum = 0\n",
    "  for c in counts:\n",
    "    sum += c\n",
    "  yield (word, sum)\n",
    "\n",
    "output = MapReduce(RECORDREADER, MAP, REDUCE)\n",
    "output = list(output)\n",
    "output"
   ]
  },
  {
   "cell_type": "markdown",
   "metadata": {
    "id": "h-jRAcYCAkkk"
   },
   "source": [
    "# MapReduce Distributed\n",
    "\n",
    "Добавляется в модель фабрика RECORDREARER-ов --- INPUTFORMAT, функция распределения промежуточных результатов по партициям PARTITIONER, и функция COMBINER для частичной аггрегации промежуточных результатов до распределения по новым партициям."
   ]
  },
  {
   "cell_type": "code",
   "execution_count": 20,
   "metadata": {
    "id": "nw-b-xJsApgW"
   },
   "outputs": [],
   "source": [
    "def flatten(nested_iterable):\n",
    "  #возвращаем из (neated, [element, element]) element\n",
    "  for iterable in nested_iterable:\n",
    "    for element in iterable:\n",
    "      yield element\n",
    "\n",
    "def groupbykey(iterable):\n",
    "  # возвращает список с уникальными ключами\n",
    "  t = {}\n",
    "  for (k2, v2) in iterable:\n",
    "    t[k2] = t.get(k2, []) + [v2]\n",
    "  return t.items()\n",
    "      \n",
    "def groupbykey_distributed(map_partitions, PARTITIONER):\n",
    "  # Создает список из reducers пустых словарей.\n",
    "  global reducers\n",
    "  partitions = [dict() for _ in range(reducers)]\n",
    "  # определяем к какой партиции (reduce'ру) должна быть отправлена эта пара\n",
    "  for map_partition in map_partitions:\n",
    "    for (k2, v2) in map_partition:\n",
    "      p = partitions[PARTITIONER(k2)]\n",
    "      # Добавляет значение v2 к списку значений, связанных с ключом k2 в соответствующей партиции p\n",
    "      p[k2] = p.get(k2, []) + [v2]\n",
    "      # Преобразует список партиций в список кортежей (partition_id, sorted_partition).\n",
    "      # Сортирует элементы (пары ключ-значение) внутри каждой партиции по ключу. \n",
    "  return [(partition_id, sorted(partition.items(), key=lambda x: x[0])) for (partition_id, partition) in enumerate(partitions)]\n",
    " \n",
    "def PARTITIONER(obj):\n",
    "  # Вычисляет хеш объекта (ключа) и берет остаток от деления на reducers. \n",
    "  # Это обеспечивает более или менее равномерное распределение ключей между reduce'рами.\n",
    "  global reducers\n",
    "  return hash(obj) % reducers\n",
    "  \n",
    "def MapReduceDistributed(INPUTFORMAT, MAP, REDUCE, PARTITIONER=PARTITIONER, COMBINER=None):\n",
    "  # Применяем функцию MAP к каждой паре ключ-значение (k1, v1) в каждом record_reader.\n",
    "  # После чего применяем весь этот процесс ко всем record_reader'ам, полученным от INPUTFORMAT().\n",
    "  map_partitions = map(lambda record_reader: flatten(map(lambda k1v1: MAP(*k1v1), record_reader)), INPUTFORMAT())\n",
    "  #COMBINER выполняет локальную агрегацию значений для одного и того же ключа на той же машине, где работает mapper. \n",
    "  if COMBINER != None:\n",
    "    #Применяет функцию COMBINER к каждой группе (ключ, список значений).  *k2v2 распаковывает пару (ключ, список значений) в аргументы для COMBINER. \n",
    "    map_partitions = map(lambda map_partition: flatten(map(lambda k2v2: COMBINER(*k2v2), groupbykey(map_partition))), map_partitions)\n",
    "  reduce_partitions = groupbykey_distributed(map_partitions, PARTITIONER) # shuffle\n",
    "  # Применяет функцию REDUCE к каждой группе (ключ, список значений) в партиции.  \n",
    "  # REDUCE должна агрегировать список значений для данного ключа, чтобы получить окончательный результат для этого ключа.\n",
    "  reduce_outputs = map(lambda reduce_partition: (reduce_partition[0], flatten(map(lambda reduce_input_group: REDUCE(*reduce_input_group), reduce_partition[1]))), reduce_partitions)\n",
    "  \n",
    "  print(\"{} key-value pairs were sent over a network.\".format(sum([len(vs) for (k,vs) in flatten([partition for (partition_id, partition) in reduce_partitions])])))\n",
    "  return reduce_outputs"
   ]
  },
  {
   "cell_type": "markdown",
   "metadata": {
    "id": "kxirlf3XqZxY"
   },
   "source": [
    "## Спецификация MapReduce Distributed\n",
    "\n",
    "\n",
    "```\n",
    "f (k1, v1) -> (k2,v2)*\n",
    "g (k2, v2*) -> (k3,v3)*\n",
    " \n",
    "e1 (k1, v1)\n",
    "e2 (k2, v2)\n",
    "partition1 (k2, v2)*\n",
    "partition2 (k2, v2*)*\n",
    " \n",
    "flatmap (e1->e2*, e1*) -> partition1*\n",
    "groupby (partition1*) -> partition2*\n",
    "\n",
    "mapreduce ((k1,v1)*) -> (k3,v3)*\n",
    "mapreduce .flatmap(f).groupby(k2).flatmap(g)\n",
    "```\n",
    "\n"
   ]
  },
  {
   "cell_type": "markdown",
   "metadata": {
    "id": "CWYw_CpbbY3C"
   },
   "source": [
    "## WordCount "
   ]
  },
  {
   "cell_type": "code",
   "execution_count": 21,
   "metadata": {
    "colab": {
     "base_uri": "https://localhost:8080/",
     "height": 68
    },
    "id": "uR_zfGFkMZlp",
    "outputId": "c8d46167-473d-43b9-881a-2396991b3731"
   },
   "outputs": [
    {
     "name": "stdout",
     "output_type": "stream",
     "text": [
      "56 key-value pairs were sent over a network.\n"
     ]
    },
    {
     "data": {
      "text/plain": [
       "[(0, [('', 6), ('it', 18), ('what', 10)]),\n",
       " (1, [('a', 2), ('banana', 2), ('is', 18)])]"
      ]
     },
     "execution_count": 21,
     "metadata": {},
     "output_type": "execute_result"
    }
   ],
   "source": [
    "from typing import Iterator\n",
    "import numpy as np\n",
    "\n",
    "d1 = \"\"\"\n",
    "it is what it is\n",
    "it is what it is\n",
    "it is what it is\"\"\"\n",
    "d2 = \"\"\"\n",
    "what is it\n",
    "what is it\"\"\"\n",
    "d3 = \"\"\"\n",
    "it is a banana\"\"\"\n",
    "documents = [d1, d2, d3, d1, d2, d3]\n",
    "\n",
    "maps = 3\n",
    "reducers = 2\n",
    "\n",
    "def INPUTFORMAT():\n",
    "  # Объявляет, что функция использует глобальную переменную maps.\n",
    "  global maps\n",
    "  \n",
    "  def RECORDREADER(split):\n",
    "    # Возвращает кортеж, содержащий идентификатор документа и строки (docid:lineid) и саму строку.\n",
    "    for (docid, document) in enumerate(split):\n",
    "      for (lineid, line) in enumerate(document.split('\\n')):\n",
    "        yield (\"{}:{}\".format(docid,lineid), line)\n",
    "  #Вычисляет размер каждого сплита, чтобы равномерно разделить документы между map-задачами. Используется округление вверх.\n",
    "  split_size =  int(np.ceil(len(documents)/maps))\n",
    "  # Перебирает документы с шагом split_size.\n",
    "  for i in range(0, len(documents), split_size):\n",
    "    # возвращает RECORDREADER, который преобразует их в поток (stream) пар (docid:lineid, line).\n",
    "    yield RECORDREADER(documents[i:i+split_size])\n",
    "\n",
    "def MAP(docId:str, line:str):\n",
    "  # Возвращает кортеж, содержащий слово и счетчик 1 (для каждой встреченной версии слова).\n",
    "  for word in line.split(\" \"):  \n",
    "    yield (word, 1)\n",
    " \n",
    "def REDUCE(word:str, counts:Iterator[int]):\n",
    "  # Перебирает счетчики для данного слова, суммируя их. Возвращает слово и количество его повторений\n",
    "  sum = 0\n",
    "  for c in counts:\n",
    "    sum += c\n",
    "  yield (word, sum)\n",
    "  \n",
    "# try to set COMBINER=REDUCER and look at the number of values sent over the network \n",
    "partitioned_output = MapReduceDistributed(INPUTFORMAT, MAP, REDUCE, COMBINER=None)# Запускает процесс MapReduce с заданными функциями и параметрами. \n",
    "# COMBINER=None означает, что combiner не используется.\n",
    "\n",
    "partitioned_output = [(partition_id, list(partition)) for (partition_id, partition) in partitioned_output] # Преобразует итератор partition в список, чтобы напечатать его.\n",
    "partitioned_output"
   ]
  },
  {
   "cell_type": "markdown",
   "metadata": {
    "id": "gCJGx8IQ87xS"
   },
   "source": [
    "## TeraSort"
   ]
  },
  {
   "cell_type": "code",
   "execution_count": 22,
   "metadata": {
    "colab": {
     "base_uri": "https://localhost:8080/",
     "height": 578
    },
    "id": "P2v8v1v_8_YR",
    "outputId": "e0987c25-9757-46cb-8e55-d5d2adfbee2b"
   },
   "outputs": [
    {
     "name": "stdout",
     "output_type": "stream",
     "text": [
      "30 key-value pairs were sent over a network.\n"
     ]
    },
    {
     "data": {
      "text/plain": [
       "[(0,\n",
       "  [(None, 0.025792979286890394),\n",
       "   (None, 0.043264007000797244),\n",
       "   (None, 0.06675116507924173),\n",
       "   (None, 0.11959444027051502),\n",
       "   (None, 0.14728257743083295),\n",
       "   (None, 0.2492219170110631),\n",
       "   (None, 0.2719425965428681),\n",
       "   (None, 0.34111615221191993),\n",
       "   (None, 0.45071783158942613),\n",
       "   (None, 0.4663268371659578),\n",
       "   (None, 0.472587130910855)]),\n",
       " (1,\n",
       "  [(None, 0.524486300667639),\n",
       "   (None, 0.538394058736404),\n",
       "   (None, 0.5387298967478329),\n",
       "   (None, 0.5553404162444036),\n",
       "   (None, 0.6213712516741151),\n",
       "   (None, 0.6495375182387296),\n",
       "   (None, 0.6728397324452573),\n",
       "   (None, 0.674127953538846),\n",
       "   (None, 0.6969053371184614),\n",
       "   (None, 0.7136781529932946),\n",
       "   (None, 0.7661598530670479),\n",
       "   (None, 0.8065343746302002),\n",
       "   (None, 0.8408441030302031),\n",
       "   (None, 0.8481031386059075),\n",
       "   (None, 0.8551853486838957),\n",
       "   (None, 0.8823155336572647),\n",
       "   (None, 0.9043361775802701),\n",
       "   (None, 0.9398413568658897),\n",
       "   (None, 0.9517183232237912)])]"
      ]
     },
     "execution_count": 22,
     "metadata": {},
     "output_type": "execute_result"
    }
   ],
   "source": [
    "import numpy as np\n",
    "\n",
    "input_values = np.random.rand(30)\n",
    "maps = 3\n",
    "reducers = 2\n",
    "min_value = 0.0\n",
    "max_value = 1.0\n",
    "\n",
    "def INPUTFORMAT():\n",
    "  global maps #Объявляет, что функция использует глобальную переменную maps\n",
    "  \n",
    "  def RECORDREADER(split):\n",
    "    # Перебирает значения в текущем сплите. Возвращает кортеж, содержащий значение и None (ключ-значение пара)\n",
    "    for value in split:\n",
    "        yield (value, None)\n",
    "\n",
    "   # Вычисляет размер каждого сплита, чтобы равномерно разделить входные значения между map-задачами.   \n",
    "  split_size =  int(np.ceil(len(input_values)/maps))\n",
    "  # Перебирает входные значения с шагом split_size. Bозвращает RECORDREADER, который преобразует их в поток пар (value, None).\n",
    "  for i in range(0, len(input_values), split_size):\n",
    "    yield RECORDREADER(input_values[i:i+split_size])\n",
    "    \n",
    "def MAP(value:int, _):\n",
    "  yield (value, None)\n",
    "  \n",
    "def PARTITIONER(key):\n",
    "  #использует глобальные переменные reducers, min_value и max_value\n",
    "  global reducers\n",
    "  global max_value\n",
    "  global min_value\n",
    "  bucket_size = (max_value-min_value)/reducers #Вычисляет размер каждого бакета (диапазона значений) на основе количества reduce-задач.\n",
    "  bucket_id = 0\n",
    "\n",
    "  # Находит правильный бакет для данного ключа.\n",
    "  while((key>(bucket_id+1)*bucket_size) and ((bucket_id+1)*bucket_size<max_value)):\n",
    "    # Увеличивает идентификатор бакета, пока ключ не попадет в текущий бакет. Возвращает идентификатор бакета, к которому принадлежит ключ.\n",
    "    bucket_id += 1\n",
    "  return bucket_id\n",
    "\n",
    "def REDUCE(value:int, _):\n",
    "  yield (None,value)\n",
    "  \n",
    "# Запускает процесс MapReduce с заданными функциями и параметрами. PARTITIONER используется для определения того, \n",
    "# какая reduce-задача получит какое значение. После чего преобразует результаты в список списков для более удобной визуализации.\n",
    "partitioned_output = MapReduceDistributed(INPUTFORMAT, MAP, REDUCE, COMBINER=None, PARTITIONER=PARTITIONER)\n",
    "partitioned_output = [(partition_id, list(partition)) for (partition_id, partition) in partitioned_output]\n",
    "partitioned_output"
   ]
  },
  {
   "cell_type": "code",
   "execution_count": null,
   "metadata": {
    "id": "MQhoJaVZI93G"
   },
   "outputs": [],
   "source": []
  },
  {
   "cell_type": "markdown",
   "metadata": {
    "id": "Iy65YJTH99iT"
   },
   "source": [
    "# Упражнения\n",
    "Упражнения взяты из Rajaraman A., Ullman J. D. Mining of massive datasets. – Cambridge University Press, 2011.\n",
    "\n",
    "\n",
    "Для выполнения заданий переопределите функции RECORDREADER, MAP, REDUCE. Для модели распределённой системы может потребоваться переопределение функций PARTITION и COMBINER."
   ]
  },
  {
   "cell_type": "markdown",
   "metadata": {
    "id": "cfvAeZm3S8S8"
   },
   "source": [
    "### Максимальное значение ряда\n",
    "\n",
    "Разработайте MapReduce алгоритм, который находит максимальное число входного списка чисел."
   ]
  },
  {
   "cell_type": "code",
   "execution_count": 23,
   "metadata": {
    "id": "3GRA1JR-Tkbg"
   },
   "outputs": [
    {
     "name": "stdout",
     "output_type": "stream",
     "text": [
      "Сгенерированный список данных: [(0, 2), (1, 2), (2, 43), (3, 33), (4, 33), (5, 22), (6, 58), (7, 69), (8, 47), (9, 5)]\n",
      "Максимальное значение: 69, ID: 7\n"
     ]
    }
   ],
   "source": [
    "import random\n",
    "from collections import defaultdict\n",
    "\n",
    "def INPUT_FORMAT(data, num_splits):\n",
    "    # Разбивает входной список на num_splits частей.\n",
    "    split_size = len(data) // num_splits\n",
    "    remainder = len(data) % num_splits\n",
    "    start = 0\n",
    "    for i in range(num_splits):\n",
    "        end = start + split_size + (1 if i < remainder else 0)\n",
    "        yield data[start:end]\n",
    "        start = end\n",
    "\n",
    "def MAP(split):\n",
    "    # Находит максимальное число в данном сплите.\n",
    "    if not split:\n",
    "        return []\n",
    "    max_item = max(split, key=lambda item: item[1])\n",
    "    yield (\"max\", max_item)\n",
    "\n",
    "def REDUCE(key, values):\n",
    "    # Находит максимальное число среди всех максимумов от mapper'ов.\"\"\"\n",
    "    max_item = max(values, key=lambda item: item[1])\n",
    "    yield (key, max_item)\n",
    "\n",
    "def MapReduce(data, num_maps, num_reducers):\n",
    "    # MapReduce для поиска максимального значения.\n",
    "    map_results = [list(MAP(split)) for split in INPUT_FORMAT(data, num_maps)]\n",
    "\n",
    "    combined_results = defaultdict(list)\n",
    "    for result in map_results:\n",
    "        for key, value in result:\n",
    "            combined_results[key].append(value)\n",
    "\n",
    "    reduce_results = [list(REDUCE(key, values)) for key, values in combined_results.items()]\n",
    "\n",
    "    # Возвращение результата\n",
    "    if reduce_results:\n",
    "        return reduce_results[0][0][1]\n",
    "    else:\n",
    "        return None\n",
    "\n",
    "\n",
    "def RECORDREADER(num_records):\n",
    "    # Возвращает список пар (идентификатор, случайное целое число).\n",
    "    return [(i, random.randint(1, 100)) for i in range(num_records)]\n",
    "\n",
    "\n",
    "# Пример использования\n",
    "num_records = 10\n",
    "data = RECORDREADER(num_records)\n",
    "print(\"Сгенерированный список данных:\", data)\n",
    "\n",
    "num_maps = 5\n",
    "num_reducers = 1\n",
    "max_id, max_value = MapReduce(data, num_maps, num_reducers)\n",
    "\n",
    "print(f\"Максимальное значение: {max_value}, ID: {max_id}\")\n",
    "\n"
   ]
  },
  {
   "cell_type": "markdown",
   "metadata": {
    "id": "k86bXnqZTk-U"
   },
   "source": [
    "### Арифметическое среднее\n",
    "\n",
    "Разработайте MapReduce алгоритм, который находит арифметическое среднее.\n",
    "\n",
    "$$\\overline{X} = \\frac{1}{n}\\sum_{i=0}^{n} x_i$$\n"
   ]
  },
  {
   "cell_type": "code",
   "execution_count": 24,
   "metadata": {
    "id": "MPoY5pkfUNZf"
   },
   "outputs": [
    {
     "name": "stdout",
     "output_type": "stream",
     "text": [
      "Сгенерированный список данных: [(0, 9), (1, 5), (2, 9), (3, 3), (4, 7), (5, 4), (6, 3), (7, 1), (8, 3), (9, 7)]\n",
      "Среднее арифметическое: 5.1\n"
     ]
    }
   ],
   "source": [
    "import random\n",
    "from collections import defaultdict\n",
    "\n",
    "def INPUT_FORMAT(data, num_splits):\n",
    "    #Разбивает входной список на num_splits частей.\n",
    "    split_size = len(data) // num_splits\n",
    "    remainder = len(data) % num_splits\n",
    "    start = 0\n",
    "    for i in range(num_splits):\n",
    "        end = start + split_size + (1 if i < remainder else 0)\n",
    "        yield data[start:end]\n",
    "        start = end\n",
    "\n",
    "def MAP(split):\n",
    "    # Вычисляет сумму и количество элементов в данном сплите.\n",
    "    s = sum(item[1] for item in split)  # Суммируем только значения\n",
    "    count = len(split)\n",
    "    yield (\"average\", (s, count))\n",
    "\n",
    "def REDUCE(key, values):\n",
    "    # Вычисление общего среднего арифметического.\n",
    "    total_sum = 0\n",
    "    total_count = 0\n",
    "    for s, count in values:\n",
    "        total_sum += s\n",
    "        total_count += count\n",
    "\n",
    "    if total_count == 0:\n",
    "        return 0\n",
    "    else:\n",
    "        return total_sum / total_count\n",
    "\n",
    "def MapReduce(data, num_maps, num_reducers):\n",
    "    # MapReduce для вычисления среднего арифметического.\n",
    "\n",
    "    map_results = []\n",
    "    for split in INPUT_FORMAT(data, num_maps):\n",
    "        for key, value in MAP(split):\n",
    "            map_results.append((key, value))\n",
    "\n",
    "    combined_results = defaultdict(list)\n",
    "    for key, value in map_results:\n",
    "        combined_results[key].append(value)\n",
    "\n",
    "    if \"average\" in combined_results:\n",
    "        return REDUCE(\"average\", combined_results[\"average\"])\n",
    "    else:\n",
    "        return 0\n",
    "\n",
    "# Пример использования\n",
    "num_records = 10\n",
    "data = [(i, random.randint(1, 10)) for i in range(num_records)]  # Список (идентификатор, значение)\n",
    "\n",
    "print(\"Сгенерированный список данных:\", data)\n",
    "\n",
    "num_maps = 4\n",
    "num_reducers = 1\n",
    "average = MapReduce(data, num_maps, num_reducers)\n",
    "\n",
    "print(f\"Среднее арифметическое: {average}\")\n"
   ]
  },
  {
   "cell_type": "markdown",
   "metadata": {
    "id": "xanzszhsIlLe"
   },
   "source": [
    "### GroupByKey на основе сортировки\n",
    "\n",
    "Реализуйте groupByKey на основе сортировки, проверьте его работу на примерах"
   ]
  },
  {
   "cell_type": "code",
   "execution_count": 25,
   "metadata": {
    "id": "hQPn3USsIkEC"
   },
   "outputs": [
    {
     "name": "stdout",
     "output_type": "stream",
     "text": [
      "Пример 1:\n",
      "Входные данные: [('a', 1), ('a', 2), ('b', 3), ('b', 4), ('c', 5)]\n",
      "Результат: {'a': [1, 2], 'b': [3, 4], 'c': [5]}\n",
      "\n",
      "Пример 2:\n",
      "Входные данные: [(1, 'one'), ('a', 'letter'), (1, 'uno'), ('a', 'another')]\n",
      "Результат: {1: ['uno'], 'a': ['another']}\n"
     ]
    }
   ],
   "source": [
    "def group_by_key_sorted(data):\n",
    "    # Выполняет GroupByKey для списка пар (ключ, значение), предполагая, что данные отсортированы по \n",
    "    #ключу.\n",
    "\n",
    "    grouped_data = {}\n",
    "    current_key = None\n",
    "    current_values = []\n",
    "\n",
    "    for key, value in data:\n",
    "        if key != current_key:\n",
    "            # Новый ключ\n",
    "            if current_key is not None:\n",
    "                grouped_data[current_key] = current_values\n",
    "            current_key = key\n",
    "            current_values = [value]\n",
    "        else:\n",
    "            # Тот же ключ\n",
    "            current_values.append(value)\n",
    "\n",
    "    # Добавляем последнюю группу (если есть)\n",
    "    if current_key is not None:\n",
    "        grouped_data[current_key] = current_values\n",
    "\n",
    "    return grouped_data\n",
    "\n",
    "\n",
    "# Пример 1 \n",
    "sorted_data1 = [(\"a\", 1), (\"a\", 2), (\"b\", 3), (\"b\", 4), (\"c\", 5)]\n",
    "grouped_data1 = group_by_key_sorted(sorted_data1)\n",
    "print(\"Пример 1:\")\n",
    "print(\"Входные данные:\", sorted_data1)\n",
    "print(\"Результат:\", grouped_data1)\n",
    "\n",
    "# Пример 2 (ключи не одного типа (число и буква))\n",
    "sorted_data6 = [(1, \"one\"), (\"a\", \"letter\"), (1, \"uno\"), (\"a\", \"another\")]\n",
    "grouped_data6 = group_by_key_sorted(sorted_data6)\n",
    "print(\"\\nПример 2:\")\n",
    "print(\"Входные данные:\", sorted_data6)\n",
    "print(\"Результат:\", grouped_data6)\n"
   ]
  },
  {
   "cell_type": "markdown",
   "metadata": {
    "id": "5SgEjCZyGnu6"
   },
   "source": [
    "### Drop duplicates (set construction, unique elements, distinct)\n",
    "\n",
    "Реализуйте распределённую операцию исключения дубликатов"
   ]
  },
  {
   "cell_type": "code",
   "execution_count": 26,
   "metadata": {
    "id": "okjbyApjGhMt"
   },
   "outputs": [
    {
     "name": "stdout",
     "output_type": "stream",
     "text": [
      "Исходный список данных: [9, 3, 3, 8, 3, 3, 2, 3, 3, 9, 1, 8, 4, 7, 5, 6, 1, 4, 1, 5, 2, 3, 5, 2, 2, 1, 1, 4]\n",
      "Список данных без дубликатов: [4, 7, 8, 1, 2, 6, 3, 5, 9]\n"
     ]
    }
   ],
   "source": [
    "import hashlib\n",
    "import random\n",
    "from collections import defaultdict\n",
    "\n",
    "def INPUT_FORMAT(data, num_splits):\n",
    "    # Разбивает входной список на num_splits частей.\n",
    "    split_size = len(data) // num_splits\n",
    "    remainder = len(data) % num_splits\n",
    "    start = 0\n",
    "    for i in range(num_splits):\n",
    "        end = start + split_size + (1 if i < remainder else 0)\n",
    "        yield data[start:end]\n",
    "        start = end\n",
    "\n",
    "def MAP(split):\n",
    "    # Вычисляет хэш каждой записи и выдает пару (хэш, запись).\n",
    "    for record in split:\n",
    "        hash_value = hashlib.md5(str(record).encode('utf-8')).hexdigest() # Хэшируем запись\n",
    "        yield (hash_value, record)\n",
    "\n",
    "def PARTITION(key, num_reducers):\n",
    "    # Определяет, какому reducer'у отправить запись на основе хэша.\n",
    "    return int(key, 16) % num_reducers #  Распределение на основе хэша\n",
    "\n",
    "def REDUCE(key, values):\n",
    "    # Выдает только первую запись для данного хэша (устраняет дубликаты).\n",
    "    yield values[0] # Берем первую запись, остальные игнорируем\n",
    "\n",
    "def MapReduce(data, num_maps, num_reducers):\n",
    "\n",
    "    map_results = []\n",
    "    for split in INPUT_FORMAT(data, num_maps):\n",
    "        map_results.extend(MAP(split)) # Добавляем записи\n",
    "\n",
    "    partitioned_data = [[] for _ in range(num_reducers)]\n",
    "    for key, value in map_results:\n",
    "        reducer_id = PARTITION(key, num_reducers)\n",
    "        partitioned_data[reducer_id].append((key, value))\n",
    "\n",
    "    reduce_results = []\n",
    "    for reducer_id in range(num_reducers):\n",
    "        reducer_input = partitioned_data[reducer_id]\n",
    "        # Группируем по хэшу (ключу)\n",
    "        grouped_data = defaultdict(list)\n",
    "        for key, value in reducer_input:\n",
    "            grouped_data[key].append(value)\n",
    "\n",
    "        # Применяем REDUCE к каждой группе\n",
    "        for key, values in grouped_data.items():\n",
    "            reduce_results.extend(REDUCE(key, values)) # Добавляем уникальные записи\n",
    "\n",
    "    return reduce_results # Возвращаем список уникальных записей\n",
    "\n",
    "# Пример использования\n",
    "num_records = 20\n",
    "data = [random.randint(1, 10) for _ in range(num_records)]  # Список случайных чисел с дубликатами\n",
    "\n",
    "# Добавим несколько дубликатов\n",
    "data.extend([1, 2, 3, 1, 2, 3, 4, 4])\n",
    "random.shuffle(data) # Перемешаем, чтобы дубликаты не шли подряд\n",
    "\n",
    "print(\"Исходный список данных:\", data)\n",
    "\n",
    "num_maps = 7\n",
    "num_reducers = 5 \n",
    "\n",
    "unique_data = MapReduce(data, num_maps, num_reducers)\n",
    "\n",
    "print(\"Список данных без дубликатов:\", unique_data)\n"
   ]
  },
  {
   "cell_type": "markdown",
   "metadata": {
    "id": "e7sRGoTXuJze"
   },
   "source": [
    "#Операторы реляционной алгебры\n",
    "### Selection (Выборка)\n",
    "\n",
    "**The Map Function**: Для  каждого кортежа $t \\in R$ вычисляется истинность предиката $C$. В случае истины создаётся пара ключ-значение $(t, t)$. В паре ключ и значение одинаковы, равны $t$.\n",
    "\n",
    "**The Reduce Function:** Роль функции Reduce выполняет функция идентичности, которая возвращает то же значение, что получила на вход.\n"
   ]
  },
  {
   "cell_type": "code",
   "execution_count": 27,
   "metadata": {
    "id": "4nKIKe59uIfc"
   },
   "outputs": [
    {
     "name": "stdout",
     "output_type": "stream",
     "text": [
      "Отношение:\n",
      "{'id': 1, 'name': 'Alice', 'age': 30, 'city': 'New York'}\n",
      "{'id': 2, 'name': 'Bob', 'age': 25, 'city': 'Los Angeles'}\n",
      "{'id': 3, 'name': 'Charlie', 'age': 35, 'city': 'Chicago'}\n",
      "{'id': 4, 'name': 'David', 'age': 28, 'city': 'New York'}\n",
      "\n",
      "Выбранные кортежи (age > 28):\n",
      "{'id': 1, 'name': 'Alice', 'age': 30, 'city': 'New York'}\n",
      "{'id': 3, 'name': 'Charlie', 'age': 35, 'city': 'Chicago'}\n"
     ]
    }
   ],
   "source": [
    "def MAP_SELECTION(relation, predicate):\n",
    "    \n",
    "    for t in relation:\n",
    "        if predicate(t):\n",
    "            yield (t, t)  # Ключ и значение одинаковы и равны кортежу t\n",
    "\n",
    "\n",
    "def REDUCE_SELECTION(key, values):\n",
    "\n",
    "    # Выполняет Reduce-функцию (идентичность) для операции Selection.\n",
    "    yield key # Возвращаем ключ (который равен кортежу t)\n",
    "\n",
    "\n",
    "def Selection(relation, predicate, num_maps=1, num_reducers=1):\n",
    "    # Выполняет операцию Selection с использованием MapReduce.\n",
    "\n",
    "    map_results = []\n",
    "    for t in relation:  # Нет необходимости разбивать данные, если num_maps мало\n",
    "        for key, value in MAP_SELECTION([t], predicate): # Оборачиваем t в список\n",
    "             map_results.append((key, value))\n",
    "\n",
    "    selected_tuples = []\n",
    "    for key, value in map_results:\n",
    "       for t in REDUCE_SELECTION(key,[value]):\n",
    "           selected_tuples.append(t)\n",
    "\n",
    "    return selected_tuples # Возвращает список выбранных кортежей\n",
    "\n",
    "\n",
    "\n",
    "# Пример использования:\n",
    "# Отношение (список кортежей, где каждый кортеж - это словарь)\n",
    "relation = [\n",
    "    {\"id\": 1, \"name\": \"Alice\", \"age\": 30, \"city\": \"New York\"},\n",
    "    {\"id\": 2, \"name\": \"Bob\", \"age\": 25, \"city\": \"Los Angeles\"},\n",
    "    {\"id\": 3, \"name\": \"Charlie\", \"age\": 35, \"city\": \"Chicago\"},\n",
    "    {\"id\": 4, \"name\": \"David\", \"age\": 28, \"city\": \"New York\"},\n",
    "]\n",
    "\n",
    "\n",
    "# Предикат: возраст > 28\n",
    "def age_greater_than_28(tuple):\n",
    "    return tuple[\"age\"] > 28\n",
    "\n",
    "\n",
    "# Выполняем Selection\n",
    "selected_relation = Selection(relation, age_greater_than_28)\n",
    "\n",
    "# Выводим результат\n",
    "print(\"Отношение:\")\n",
    "for t in relation:\n",
    "    print(t)\n",
    "\n",
    "print(\"\\nВыбранные кортежи (age > 28):\")\n",
    "for t in selected_relation:\n",
    "    print(t)\n"
   ]
  },
  {
   "cell_type": "markdown",
   "metadata": {
    "id": "w27Ca-_Ku85V"
   },
   "source": [
    "### Projection (Проекция)\n",
    "\n",
    "Проекция на множество атрибутов $S$.\n",
    "\n",
    "**The Map Function:** Для каждого кортежа $t \\in R$ создайте кортеж $t′$, исключая  из $t$ те значения, атрибуты которых не принадлежат  $S$. Верните пару $(t′, t′)$.\n",
    "\n",
    "**The Reduce Function:** Для каждого ключа $t′$, созданного любой Map задачей, вы получаете одну или несколько пар $(t′, t′)$. Reduce функция преобразует $(t′, [t′, t′, . . . , t′])$ в $(t′, t′)$, так, что для ключа $t′$ возвращается одна пара  $(t′, t′)$."
   ]
  },
  {
   "cell_type": "code",
   "execution_count": 28,
   "metadata": {
    "id": "BEvuY4GqvhS6"
   },
   "outputs": [
    {
     "name": "stdout",
     "output_type": "stream",
     "text": [
      "Исходные данные: [{'name': 'Alice', 'age': 30, 'city': 'New York'}, {'name': 'Bob', 'age': 25, 'city': 'London'}, {'name': 'Alice', 'age': 30, 'city': 'New York'}, {'name': 'Alice', 'age': 30, 'city': 'Paris'}]\n",
      "Проекция по атрибутам 'name' и 'city': [{'city': 'New York', 'name': 'Alice'}, {'city': 'London', 'name': 'Bob'}, {'city': 'Paris', 'name': 'Alice'}]\n"
     ]
    }
   ],
   "source": [
    "from typing import List, Tuple, Set\n",
    "\n",
    "def projection_map(record: dict, attributes: Set[str]) -> Tuple[dict, dict]:\n",
    "    # Для каждого кортежа создает кортеж с только указанными атрибутами.\n",
    "   \n",
    "    projected_record = {k: v for k, v in record.items() if k in attributes}\n",
    "    return projected_record, projected_record\n",
    "\n",
    "\n",
    "def projection_reduce(key: dict, values: List[dict]) -> Tuple[dict, dict]:\n",
    "    # Удаляет дубликаты спроектированных кортежей. \n",
    "    return key, key\n",
    "\n",
    "\n",
    "def shuffle_phase(mapped_data: List[Tuple[dict, dict]]) -> dict:\n",
    "    # Группирует данные по ключам.\n",
    " \n",
    "    grouped_data = {}\n",
    "    for key, value in mapped_data:\n",
    "        key_tuple = tuple(sorted(key.items()))  # Преобразование словаря в кортеж для использования в качестве ключа\n",
    "        if key_tuple not in grouped_data:\n",
    "            grouped_data[key_tuple] = []\n",
    "        grouped_data[key_tuple].append(value)\n",
    "    return grouped_data\n",
    "\n",
    "\n",
    "def reduce_phase(grouped_data: dict) -> List[Tuple[dict, dict]]:\n",
    "    # Выполняет фазу reduce, применяя reduce функцию к каждой группе данных.\n",
    "\n",
    "    reduced_data = []\n",
    "    for key_tuple, values in grouped_data.items():\n",
    "        key = dict(key_tuple) # Преобразование ключа-кортежа обратно в словарь\n",
    "        reduced_data.append(projection_reduce(key, values))\n",
    "    return reduced_data\n",
    "\n",
    "\n",
    "if __name__ == '__main__':\n",
    "    # Пример данных:\n",
    "    relation = [\n",
    "        {'name': 'Alice', 'age': 30, 'city': 'New York'},\n",
    "        {'name': 'Bob', 'age': 25, 'city': 'London'},\n",
    "        {'name': 'Alice', 'age': 30, 'city': 'New York'},\n",
    "        {'name': 'Alice', 'age': 30, 'city': 'Paris'}, # Duplicate for testing reduce\n",
    "    ]\n",
    "\n",
    "    # Атрибуты, которые нужно сохранить:\n",
    "    attributes_to_keep = {'name', 'city'}\n",
    "\n",
    "    mapped_data = []\n",
    "    for record in relation:\n",
    "        mapped_data.append(projection_map(record, attributes_to_keep))\n",
    "\n",
    "    grouped_data = shuffle_phase(mapped_data)\n",
    "    reduced_data = reduce_phase(grouped_data)\n",
    "    projected_relation = [record for key, record in reduced_data]\n",
    "\n",
    "    # Вывод результатов:\n",
    "    print(\"Исходные данные:\", relation)\n",
    "    print(\"Проекция по атрибутам 'name' и 'city':\", projected_relation)\n",
    "\n"
   ]
  },
  {
   "cell_type": "markdown",
   "metadata": {
    "id": "7gau6lKXvn2R"
   },
   "source": [
    "### Union (Объединение)\n",
    "\n",
    "**The Map Function:** Превратите каждый входной кортеж $t$ в пару ключ-значение $(t, t)$.\n",
    "\n",
    "**The Reduce Function:** С каждым ключом $t$ будет ассоциировано одно или два значений. В обоих случаях создайте $(t, t)$ в качестве выходного значения."
   ]
  },
  {
   "cell_type": "code",
   "execution_count": 29,
   "metadata": {
    "id": "Sns7a5agv3nw"
   },
   "outputs": [
    {
     "name": "stdout",
     "output_type": "stream",
     "text": [
      "Relation 1: [{'name': 'Alice', 'age': 30}, {'name': 'Bob', 'age': 25}]\n",
      "Relation 2: [{'name': 'Bob', 'age': 25}, {'name': 'Charlie', 'age': 35}]\n",
      "Union: [{'age': 30, 'name': 'Alice'}, {'age': 25, 'name': 'Bob'}, {'age': 35, 'name': 'Charlie'}]\n"
     ]
    }
   ],
   "source": [
    "from typing import List, Tuple, Dict, Set\n",
    "\n",
    "def union_map(record: dict) -> Tuple[dict, dict]:\n",
    "   # Преобразует каждый входной кортеж в пару ключ-значение (record, record). \n",
    "    return record, record\n",
    "\n",
    "\n",
    "def union_reduce(key: dict, values: List[dict]) -> Tuple[dict, dict]:\n",
    "    # Для каждого ключа (record) возвращает пару (key, key), удаляя дубликаты. \n",
    "    return key, key\n",
    "\n",
    "def shuffle_phase(mapped_data: List[Tuple[dict, dict]]) -> Dict[tuple, List[dict]]:\n",
    "    # Группирует данные по ключам.\n",
    "    grouped_data = {}\n",
    "    for key, value in mapped_data:\n",
    "        key_tuple = tuple(sorted(key.items()))\n",
    "        if key_tuple not in grouped_data:\n",
    "            grouped_data[key_tuple] = []\n",
    "        grouped_data[key_tuple].append(value)\n",
    "    return grouped_data\n",
    "\n",
    "\n",
    "def reduce_phase(grouped_data: Dict[tuple, List[dict]]) -> List[Tuple[dict, dict]]:\n",
    "    # Применяет reduce функцию к каждой группе данных.\n",
    "\n",
    "    reduced_data = []\n",
    "    for key_tuple, values in grouped_data.items():\n",
    "        key = dict(key_tuple)\n",
    "        reduced_data.append(union_reduce(key, values))\n",
    "    return reduced_data\n",
    "\n",
    "\n",
    "if __name__ == '__main__':\n",
    "    # Пример данных:\n",
    "    relation1 = [\n",
    "        {'name': 'Alice', 'age': 30},\n",
    "        {'name': 'Bob', 'age': 25}\n",
    "    ]\n",
    "    relation2 = [\n",
    "        {'name': 'Bob', 'age': 25},\n",
    "        {'name': 'Charlie', 'age': 35}\n",
    "    ]\n",
    "\n",
    "    # Объединяем два отношения:\n",
    "    all_records = relation1 + relation2\n",
    "\n",
    "    mapped_data = []\n",
    "    for record in all_records:\n",
    "        mapped_data.append(union_map(record))\n",
    "\n",
    "    grouped_data = shuffle_phase(mapped_data)\n",
    "    reduced_data = reduce_phase(grouped_data)\n",
    "    union_relation = [record for key, record in reduced_data]\n",
    "\n",
    "    # Вывод результатов:\n",
    "    print(\"Relation 1:\", relation1)\n",
    "    print(\"Relation 2:\", relation2)\n",
    "    print(\"Union:\", union_relation)\n"
   ]
  },
  {
   "cell_type": "markdown",
   "metadata": {
    "id": "dQ8TuEbjv4J8"
   },
   "source": [
    "### Intersection (Пересечение)\n",
    "\n",
    "**The Map Function:** Превратите каждый кортеж $t$ в пары ключ-значение $(t, t)$.\n",
    "\n",
    "**The Reduce Function:** Если для ключа $t$ есть список из двух элементов $[t, t]$ $-$ создайте пару $(t, t)$. Иначе, ничего не создавайте."
   ]
  },
  {
   "cell_type": "code",
   "execution_count": 31,
   "metadata": {
    "id": "XKlBZh4IwERR"
   },
   "outputs": [
    {
     "name": "stdout",
     "output_type": "stream",
     "text": [
      "Пересечение: [User(id=1, name='Alice', age=30), User(id=1, name='Alice', age=30), User(id=2, name='Bob', age=25), User(id=2, name='Bob', age=25)]\n"
     ]
    }
   ],
   "source": [
    "from typing import List, Tuple, Dict, Iterator, NamedTuple\n",
    "from collections import defaultdict\n",
    "\n",
    "\n",
    "def MAP_INTERSECTION(_, row: NamedTuple) -> Tuple[int, NamedTuple]:\n",
    "    # Возвращает (row.id, row). Игнорирует ключ _.\n",
    "    return (row.id, row)\n",
    "\n",
    "\n",
    "def REDUCE_INTERSECTION(row_id: int, rows: Iterator[NamedTuple]) -> Iterator[NamedTuple]:\n",
    "    # Возвращает итератор с пользователями только если он присутствует в обоих выборках \n",
    "    rows_list = list(rows)  \n",
    "    if len(rows_list) == 2:\n",
    "        yield from rows_list #\n",
    "    else:\n",
    "        pass\n",
    "\n",
    "\n",
    "def shuffle_phase(mapped_data: List[Tuple[int, NamedTuple]]) -> Dict[int, List[NamedTuple]]:\n",
    "    # Группирует данные по row.id.\n",
    "    grouped_data = defaultdict(list)\n",
    "    for row_id, row in mapped_data:\n",
    "        grouped_data[row_id].append(row)\n",
    "    return grouped_data\n",
    "\n",
    "def reduce_phase(grouped_data: Dict[int, List[NamedTuple]]) -> List[List[NamedTuple]]:\n",
    "    \"\"\" Возвращает список списков.  Каждый список содержит найденные пересечения. \"\"\"\n",
    "    reduced_data: List[NamedTuple] = []\n",
    "\n",
    "    for row_id, rows in grouped_data.items():\n",
    "        result_iterator = REDUCE_INTERSECTION(row_id, iter(rows))\n",
    "        if result_iterator:\n",
    "            reduced_data.append(result_iterator)\n",
    "\n",
    "    return reduced_data\n",
    "\n",
    "def RECORDREADER(input_collection_a: List[NamedTuple], input_collection_b: List[NamedTuple]) -> List[Tuple[int, NamedTuple]]:\n",
    "#  Возвращает список (id пользователя, пользователь) для объединения входных коллекций.\n",
    "    records = [(user.id, user) for user in input_collection_a + input_collection_b]\n",
    "    return records\n",
    "\n",
    "def MapReduce(recordreader, map_func, reduce_func):\n",
    "    records = recordreader()\n",
    "\n",
    "    mapped_data = []\n",
    "    for _, record in enumerate(records):\n",
    "        mapped_data.append(map_func(_, record[1]))\n",
    "\n",
    "    grouped_data = shuffle_phase(mapped_data)\n",
    "    reduced_data = reduce_phase(grouped_data)\n",
    "    flat_reduced_data = [item for sublist in reduced_data for item in sublist]\n",
    "\n",
    "    return flat_reduced_data\n",
    "\n",
    "if __name__ == '__main__':\n",
    "    # Пример данных:\n",
    "    from collections import namedtuple\n",
    "    User = namedtuple('User', ['id', 'name', 'age'])\n",
    "\n",
    "    input_collection_a = [\n",
    "        User(id=1, name='Alice', age=30),\n",
    "        User(id=2, name='Bob', age=25),\n",
    "        User(id=3, name='Charlie', age=35)\n",
    "    ]\n",
    "    input_collection_b = [\n",
    "        User(id=2, name='Bob', age=25),\n",
    "        User(id=4, name='David', age=40),\n",
    "        User(id=1, name='Alice', age=30)\n",
    "    ]\n",
    "\n",
    "    output = MapReduce(lambda: RECORDREADER(input_collection_a, input_collection_b), MAP_INTERSECTION, REDUCE_INTERSECTION) \n",
    "    output = list(output)\n",
    "    print(\"Пересечение:\", output)\n"
   ]
  },
  {
   "cell_type": "markdown",
   "metadata": {
    "id": "AVOpqoY3wE5k"
   },
   "source": [
    "### Difference (Разница)\n",
    "\n",
    "**The Map Function:** Для кортежа $t \\in R$, создайте пару $(t, R)$, и для кортежа $t \\in S$, создайте пару $(t, S)$. Задумка заключается в том, чтобы значение пары было именем отношения $R$ or $S$, которому принадлежит кортеж (а лучше, единичный бит, по которому можно два отношения различить $R$ or $S$), а не весь набор атрибутов отношения.\n",
    "\n",
    "**The Reduce Function:** Для каждого ключа $t$, если соответствующее значение является списком $[R]$, создайте пару $(t, t)$. В иных случаях не предпринимайте действий."
   ]
  },
  {
   "cell_type": "code",
   "execution_count": 32,
   "metadata": {
    "id": "QE_AC09lwZIZ"
   },
   "outputs": [
    {
     "name": "stdout",
     "output_type": "stream",
     "text": [
      "Difference (R - S): [User(id=3, name='Charlie', age=35)]\n"
     ]
    }
   ],
   "source": [
    "from typing import List, Tuple, Dict, Iterator, NamedTuple\n",
    "from collections import defaultdict\n",
    "\n",
    "def difference_map(relation_name: str, record: NamedTuple) -> Tuple[NamedTuple, str]:\n",
    "    # Возвращает (record, relation_name), где relation_name - 'R' или 'S'\n",
    "    return record, relation_name\n",
    "\n",
    "def difference_reduce(key: NamedTuple, values: List[str]) -> Tuple[NamedTuple, NamedTuple] or None:\n",
    "    # Возвращает (key, key), если key встречается только в отношении 'R'\n",
    "    if len(values) == 1 and values[0] == 'R':\n",
    "        return key, key\n",
    "    else:\n",
    "        return None \n",
    "\n",
    "\n",
    "def shuffle_phase(mapped_data: List[Tuple[NamedTuple, str]]) -> Dict[NamedTuple, List[str]]:\n",
    "   # Группирует данные по NamedTuple (record)\n",
    "    grouped_data: Dict[NamedTuple, List[str]] = defaultdict(list)\n",
    "    for record, relation_name in mapped_data:\n",
    "        grouped_data[record].append(relation_name)\n",
    "    return grouped_data\n",
    "\n",
    "\n",
    "def reduce_phase(grouped_data: Dict[NamedTuple, List[str]]) -> List[NamedTuple]:\n",
    "    # Возвращает список NamedTuple, которые есть только в R\n",
    "    reduced_data: List[NamedTuple] = []\n",
    "    for record, relation_names in grouped_data.items():\n",
    "        result = difference_reduce(record, relation_names)\n",
    "        if result:\n",
    "            reduced_data.append(result[0])\n",
    "    return reduced_data\n",
    "\n",
    "def RECORDREADER(input_collection_r: List[NamedTuple], input_collection_s: List[NamedTuple]) -> List[Tuple[str, NamedTuple]]:\n",
    "    # Добавляет имя отношения к каждой записи\n",
    "    records_r = [('R', record) for record in input_collection_r]\n",
    "    records_s = [('S', record) for record in input_collection_s]\n",
    "    return records_r + records_s\n",
    "\n",
    "def MapReduce(recordreader, map_func, reduce_func):\n",
    "   # Эмулирует MapReduce pipeline.\n",
    "\n",
    "    records = recordreader()\n",
    "    mapped_data = []\n",
    "    for relation_name, record in records:\n",
    "        mapped_data.append(map_func(relation_name, record))\n",
    "    grouped_data = shuffle_phase(mapped_data)\n",
    "    reduced_data = reduce_func(grouped_data)\n",
    "\n",
    "    return reduced_data\n",
    "\n",
    "\n",
    "if __name__ == '__main__':\n",
    "    # Пример данных:\n",
    "    from collections import namedtuple\n",
    "    User = namedtuple('User', ['id', 'name', 'age'])\n",
    "\n",
    "    input_collection_r = [\n",
    "        User(id=1, name='Alice', age=30),\n",
    "        User(id=2, name='Bob', age=25),\n",
    "        User(id=3, name='Charlie', age=35)\n",
    "    ]\n",
    "    input_collection_s = [\n",
    "        User(id=2, name='Bob', age=25),\n",
    "        User(id=4, name='David', age=40),\n",
    "        User(id=1, name='Alice', age=30)\n",
    "    ]\n",
    "\n",
    "    output = MapReduce(lambda: RECORDREADER(input_collection_r, input_collection_s), difference_map, reduce_phase)\n",
    "    print(\"Difference (R - S):\", output)\n"
   ]
  },
  {
   "cell_type": "markdown",
   "metadata": {
    "id": "j8I58V2VwhSm"
   },
   "source": [
    "### Natural Join\n",
    "\n",
    "**The Map Function:** Для каждого кортежа $(a, b)$ отношения $R$, создайте пару $(b,(R, a))$. Для каждого кортежа $(b, c)$ отношения $S$, создайте пару $(b,(S, c))$.\n",
    "\n",
    "**The Reduce Function:** Каждый ключ $b$ будет асоциирован со списком пар, которые принимают форму либо $(R, a)$, либо $(S, c)$. Создайте все пары, одни, состоящие из  первого компонента $R$, а другие, из первого компонента $S$, то есть $(R, a)$ и $(S, c)$. На выходе вы получаете последовательность пар ключ-значение из списков ключей и значений. Ключ не нужен. Каждое значение, это тройка $(a, b, c)$ такая, что $(R, a)$ и $(S, c)$ это принадлежат входному списку значений."
   ]
  },
  {
   "cell_type": "code",
   "execution_count": 34,
   "metadata": {
    "id": "yHiuuTctw86I"
   },
   "outputs": [
    {
     "name": "stdout",
     "output_type": "stream",
     "text": [
      "Joined Data: [(User(id=1, age=54, name='Charlie', city_id=1), 1, City(id=1, name='Samara')), (User(id=2, age=25, name='Alice', city_id=2), 2, City(id=2, name='Moscow')), (User(id=3, age=27, name='Mark', city_id=2), 2, City(id=2, name='Moscow')), (User(id=4, age=16, name='David', city_id=3), 3, City(id=3, name='London')), (User(id=5, age=35, name='Bob', city_id=4), 4, City(id=4, name='New Yourk'))]\n"
     ]
    }
   ],
   "source": [
    "from typing import List, Tuple, Dict, Iterator, NamedTuple, Any\n",
    "from collections import defaultdict\n",
    "\n",
    "class User(NamedTuple):\n",
    "    id: int\n",
    "    age: str\n",
    "    name: str\n",
    "    city_id: int\n",
    "\n",
    "\n",
    "users_collection = [\n",
    "    User(id=1, age=54, name=\"Charlie\", city_id=1),\n",
    "    User(id=2, age=25, name=\"Alice\", city_id=2),\n",
    "    User(id=3, age=27, name=\"Mark\", city_id=2),\n",
    "    User(id=4, age=16, name=\"David\", city_id=3),\n",
    "    User(id=5, age=35, name=\"Bob\", city_id=4),\n",
    "]\n",
    "\n",
    "\n",
    "class City(NamedTuple):\n",
    "    id: int\n",
    "    name: str\n",
    "\n",
    "\n",
    "cities_collection = [\n",
    "    City(id=1, name=\"Samara\"),\n",
    "    City(id=2, name=\"Moscow\"),\n",
    "    City(id=3, name=\"London\"),\n",
    "    City(id=4, name=\"New Yourk\"), \n",
    "    City(id=5, name=\"Paris\"),\n",
    "]\n",
    "\n",
    "def natural_join_map_user(record: User) -> Tuple[int, Tuple[str, User]]:\n",
    "   # Возвращает (record.city_id, ('User', record)).\n",
    " \n",
    "    return record.city_id, ('User', record)\n",
    "\n",
    "\n",
    "def natural_join_map_city(record: City) -> Tuple[int, Tuple[str, City]]:\n",
    "    # Возвращает (record.id, ('City', record)).\n",
    "\n",
    "    return record.id, ('City', record)\n",
    "\n",
    "\n",
    "def natural_join_reduce(city_id: int, values: List[Tuple[str, NamedTuple]]) -> List[Tuple[User, int, City]]:\n",
    "    # Объединяет Users и Cities на основе общего city_id.\n",
    "\n",
    "    users: List[User] = []\n",
    "    city: City | None = None \n",
    "\n",
    "    for relation_name, record in values:\n",
    "        if relation_name == 'User':\n",
    "            users.append(record)\n",
    "        elif relation_name == 'City':\n",
    "            city = record\n",
    "\n",
    "    joined_records: List[Tuple[User, int, City]] = []\n",
    "    if city:\n",
    "        for user in users:\n",
    "            joined_records.append((user, city_id, city))\n",
    "\n",
    "    return joined_records\n",
    "\n",
    "\n",
    "def shuffle_phase(mapped_data: List[Tuple[int, Tuple[str, NamedTuple]]]) -> Dict[int, List[Tuple[str, NamedTuple]]]:\n",
    "   # Группирует данные по city_id.\n",
    "\n",
    "    grouped_data: Dict[int, List[Tuple[str, NamedTuple]]] = defaultdict(list)\n",
    "    for city_id, (relation_name, record) in mapped_data:\n",
    "        grouped_data[city_id].append((relation_name, record))\n",
    "    return grouped_data\n",
    "\n",
    "\n",
    "def reduce_phase(grouped_data: Dict[int, List[Tuple[str, NamedTuple]]]) -> List[Tuple[User, int, City]]:\n",
    "  # Возвращает список троек (user, city_id, city).\n",
    "\n",
    "    joined_data: List[Tuple[User, int, City]] = []\n",
    "    for city_id, records in grouped_data.items():\n",
    "        joined_data.extend(natural_join_reduce(city_id, records))\n",
    "    return joined_data\n",
    "\n",
    "def RECORDREADER(users_collection: List[User], cities_collection: List[City]) -> List[Tuple[str, NamedTuple]]:\n",
    "    # Добавляет имя отношения к каждой записи. \n",
    "\n",
    "    records_users = [('User', record) for record in users_collection]\n",
    "    records_cities = [('City', record) for record in cities_collection]\n",
    "    return records_users + records_cities\n",
    "\n",
    "\n",
    "def MapReduce(recordreader, map_func_user, map_func_city, reduce_func):\n",
    "  \n",
    "    records = recordreader(users_collection, cities_collection)\n",
    "\n",
    "\n",
    "    mapped_data = []\n",
    "    for relation_name, record in records:\n",
    "        if relation_name == 'User':\n",
    "            mapped_data.append(map_func_user(record))\n",
    "        elif relation_name == 'City':\n",
    "            mapped_data.append(map_func_city(record))\n",
    "\n",
    "    grouped_data = shuffle_phase(mapped_data)\n",
    "    reduced_data = reduce_func(grouped_data)\n",
    "\n",
    "    return reduced_data\n",
    "\n",
    "\n",
    "if __name__ == '__main__':\n",
    "    output = MapReduce(RECORDREADER, natural_join_map_user, natural_join_map_city, reduce_phase)\n",
    "    joined_data = output\n",
    "\n",
    "    print(\"Joined Data:\", joined_data)\n"
   ]
  },
  {
   "cell_type": "markdown",
   "metadata": {
    "id": "kYdlr0YUxE27"
   },
   "source": [
    "### Grouping and Aggregation (Группировка и аггрегация)\n",
    "\n",
    "**The Map Function:** Для каждого кортежа $(a, b, c$) создайте пару $(a, b)$.\n",
    "\n",
    "**The Reduce Function:** Ключ представляет ту или иную группу. Примение аггрегирующую операцию $\\theta$ к списку значений $[b1, b2, . . . , bn]$ ассоциированных с ключом $a$. Возвращайте в выходной поток $(a, x)$, где $x$ результат применения  $\\theta$ к списку. Например, если $\\theta$ это $SUM$, тогда $x = b1 + b2 + · · · + bn$, а если $\\theta$ is $MAX$, тогда $x$ это максимальное из значений $b1, b2, . . . , bn$."
   ]
  },
  {
   "cell_type": "code",
   "execution_count": 35,
   "metadata": {
    "id": "MLPckfEGxico"
   },
   "outputs": [
    {
     "name": "stdout",
     "output_type": "stream",
     "text": [
      "Grouping and Aggregation (SUM): [('group1', 30), ('group2', 70), ('group3', 15)]\n"
     ]
    }
   ],
   "source": [
    "from typing import List, Tuple, Dict, Iterator, NamedTuple, Callable\n",
    "from collections import defaultdict\n",
    "\n",
    "\n",
    "def grouping_map(record: NamedTuple) -> Tuple[any, any]:\n",
    "    # Возвращает (record.a, record.b).\n",
    "    return record.a, record.b\n",
    "\n",
    "\n",
    "def grouping_reduce(key: any, values: List[any], aggregation_function: Callable[[List[any]], any]) -> Tuple[any, any]:\n",
    "# Применяет aggregation_function к списку значений.\n",
    "    aggregated_value = aggregation_function(values)\n",
    "    return key, aggregated_value\n",
    "\n",
    "\n",
    "def shuffle_phase(mapped_data: List[Tuple[any, any]]) -> Dict[any, List[any]]:\n",
    "    # Группирует данные по ключу 'a' \n",
    "    grouped_data: Dict[any, List[any]] = defaultdict(list)\n",
    "    for a, b in mapped_data:\n",
    "        grouped_data[a].append(b)\n",
    "    return grouped_data\n",
    "\n",
    "\n",
    "def reduce_phase(grouped_data: Dict[any, List[any]], aggregation_function: Callable[[List[any]], any]) -> List[Tuple[any, any]]:\n",
    "# Возвращает список пар (a, x), где x - результат агрегации.\n",
    "    aggregated_data: List[Tuple[any, any]] = []\n",
    "    for a, values in grouped_data.items():\n",
    "        aggregated_data.append(grouping_reduce(a, values, aggregation_function))\n",
    "    return aggregated_data\n",
    "\n",
    "def RECORDREADER(input_collection: List[NamedTuple]) -> List[NamedTuple]:\n",
    "    return input_collection\n",
    "\n",
    "\n",
    "def MapReduce(recordreader, map_func, reduce_func, aggregation_function):\n",
    "    records = recordreader()\n",
    "\n",
    "    mapped_data = []\n",
    "    for record in records:\n",
    "        mapped_data.append(map_func(record))\n",
    "\n",
    "    grouped_data = shuffle_phase(mapped_data)\n",
    "    reduced_data = reduce_func(grouped_data, aggregation_function)\n",
    "\n",
    "    return reduced_data\n",
    "\n",
    "if __name__ == '__main__':\n",
    "    # Пример данных:\n",
    "    from collections import namedtuple\n",
    "    DataRecord = namedtuple('DataRecord', ['a', 'b', 'c'])\n",
    "\n",
    "    input_collection = [\n",
    "        DataRecord(a='group1', b=10, c='data1'),\n",
    "        DataRecord(a='group1', b=20, c='data2'),\n",
    "        DataRecord(a='group2', b=30, c='data3'),\n",
    "        DataRecord(a='group2', b=40, c='data4'),\n",
    "        DataRecord(a='group3', b=15, c='data5')\n",
    "    ]\n",
    "\n",
    "    # Пример агрегирующей функции (поиск суммы элементов)\n",
    "    def sum_aggregation(values: List[int]) -> int:\n",
    "        return sum(values)\n",
    "\n",
    "    output_sum = MapReduce(lambda: RECORDREADER(input_collection), grouping_map, reduce_phase, sum_aggregation)\n",
    "    print(\"Grouping and Aggregation (SUM):\", output_sum)\n",
    "\n"
   ]
  },
  {
   "cell_type": "markdown",
   "metadata": {
    "id": "03IffTEOJgOb"
   },
   "source": [
    "# "
   ]
  },
  {
   "cell_type": "markdown",
   "metadata": {
    "id": "IIrRgvG4RIS4"
   },
   "source": [
    "### Matrix-Vector multiplication\n",
    "\n",
    "Случай, когда вектор не помещается в памяти Map задачи\n"
   ]
  },
  {
   "cell_type": "code",
   "execution_count": 36,
   "metadata": {
    "id": "KQhDbiL3zS9r"
   },
   "outputs": [
    {
     "name": "stdout",
     "output_type": "stream",
     "text": [
      "Matrix-Vector Multiplication Result: {0: 1.9, 1: 4.3}\n"
     ]
    }
   ],
   "source": [
    "# код работает с вектором, который не помещается в памяти одной Map-задачи, разбивая его на чанки и  \n",
    "# распределяя их по разным редукторам. каждый редуктор получает часть матрицы и соответствующие части \n",
    "# вектора, выполняет частичное умножение и выдает частичные результаты. \n",
    "# Затем эти результаты агрегируются для получения окончательного результата.\n",
    "\n",
    "from typing import List, Tuple, Dict, Iterator, NamedTuple, Callable\n",
    "from collections import defaultdict\n",
    "\n",
    "NUM_REDUCERS = 2\n",
    "VECTOR_CHUNK_SIZE = 2 \n",
    "\n",
    "def matrix_vector_map(matrix_row: NamedTuple) -> Tuple[int, Tuple[str, NamedTuple]]:\n",
    "    return matrix_row.col_index % NUM_REDUCERS, ('M', matrix_row)\n",
    "\n",
    "\n",
    "def vector_map(vector_chunk: List[NamedTuple], chunk_id: int) -> List[Tuple[int, Tuple[str, List[NamedTuple]]]]:\n",
    "    mapped_data = []\n",
    "    for element in vector_chunk:\n",
    "        reducer_id = element.index % NUM_REDUCERS\n",
    "        mapped_data.append((reducer_id, ('V', element)))\n",
    "    return mapped_data\n",
    "\n",
    "\n",
    "def matrix_vector_reduce(reducer_id: int, values: List[Tuple[str, NamedTuple]]) -> List[Tuple[int, float]]:\n",
    "    # Выполняет частичное умножение для данного reducer_id.\n",
    "    matrix_rows: List[NamedTuple] = []\n",
    "    vector_elements: List[NamedTuple] = []\n",
    "\n",
    "    for relation_name, record in values:\n",
    "        if relation_name == 'M':\n",
    "            matrix_rows.append(record)\n",
    "        elif relation_name == 'V':\n",
    "            vector_elements.append(record)\n",
    "\n",
    "    partial_products: List[Tuple[int, float]] = []\n",
    "    for row in matrix_rows:\n",
    "        for element in vector_elements:\n",
    "            if row.col_index == element.index:\n",
    "                partial_products.append((row.row_index, row.value * element.value))\n",
    "\n",
    "    return partial_products\n",
    "\n",
    "def shuffle_phase(mapped_data: List[Tuple[int, Tuple[str, NamedTuple]]]) -> Dict[int, List[Tuple[str, NamedTuple]]]:\n",
    "    grouped_data: Dict[int, List[Tuple[str, NamedTuple]]] = defaultdict(list)\n",
    "    for reducer_id, (relation_name, record) in mapped_data:\n",
    "        grouped_data[reducer_id].append((relation_name, record))\n",
    "    return grouped_data\n",
    "\n",
    "\n",
    "def reduce_phase(grouped_data: Dict[int, List[Tuple[str, NamedTuple]]]) -> List[Tuple[int, float]]:\n",
    "    partial_results: List[Tuple[int, float]] = []\n",
    "    for reducer_id, records in grouped_data.items():\n",
    "        partial_results.extend(matrix_vector_reduce(reducer_id, records))\n",
    "    return partial_results\n",
    "\n",
    "\n",
    "def RECORDREADER(matrix: List[NamedTuple], vector: List[NamedTuple]) -> List[Tuple[str, NamedTuple]]:\n",
    "    return [('M', row) for row in matrix]\n",
    "\n",
    "def VECTORREADER(vector: List[NamedTuple], chunk_size: int) -> List[List[NamedTuple]]:\n",
    "    vector_chunks = [vector[i:i + chunk_size] for i in range(0, len(vector), chunk_size)]\n",
    "    return vector_chunks\n",
    "\n",
    "\n",
    "def MapReduceMatrixVector(recordreader, vectorreader, map_func_matrix, vector_map, reduce_func, num_reducers):\n",
    "    matrix_records = recordreader()\n",
    "    vector_chunks = vectorreader()\n",
    "\n",
    "    mapped_matrix_data: List[Tuple[int, Tuple[str, NamedTuple]]] = []\n",
    "    for relation_name, record in matrix_records:\n",
    "        mapped_matrix_data.append(map_func_matrix(record))\n",
    "\n",
    "    mapped_vector_data: List[Tuple[int, Tuple[str, NamedTuple]]] = []\n",
    "    for chunk_id, vector_chunk in enumerate(vector_chunks):\n",
    "        chunk_mapped_data = vector_map(vector_chunk, chunk_id)\n",
    "        mapped_vector_data.extend(chunk_mapped_data)\n",
    "\n",
    "    mapped_data = mapped_matrix_data + mapped_vector_data\n",
    "    grouped_data = shuffle_phase(mapped_data)\n",
    "    reduced_data = reduce_phase(grouped_data)\n",
    "\n",
    "    final_result: Dict[int, float] = defaultdict(float)\n",
    "    for row_index, partial_product in reduced_data:\n",
    "        final_result[row_index] += partial_product\n",
    "\n",
    "    return dict(final_result)\n",
    "\n",
    "\n",
    "if __name__ == '__main__':\n",
    "    # Пример данных:\n",
    "    from collections import namedtuple\n",
    "    MatrixRow = namedtuple('MatrixRow', ['row_index', 'col_index', 'value'])\n",
    "    VectorElement = namedtuple('VectorElement', ['index', 'value'])\n",
    "\n",
    "    matrix = [\n",
    "        MatrixRow(row_index=0, col_index=0, value=1.0),\n",
    "        MatrixRow(row_index=0, col_index=1, value=2.0),\n",
    "        MatrixRow(row_index=1, col_index=0, value=3.0),\n",
    "        MatrixRow(row_index=1, col_index=1, value=4.0)\n",
    "    ]\n",
    "\n",
    "    vector = [\n",
    "        VectorElement(index=0, value=0.5),\n",
    "        VectorElement(index=1, value=0.7)\n",
    "    ]\n",
    "\n",
    "    result = MapReduceMatrixVector(\n",
    "        lambda: RECORDREADER(matrix, vector),\n",
    "        lambda: VECTORREADER(vector, VECTOR_CHUNK_SIZE),\n",
    "        matrix_vector_map,\n",
    "        vector_map,\n",
    "        reduce_phase,\n",
    "        NUM_REDUCERS\n",
    "    )\n",
    "\n",
    "    print(\"Matrix-Vector Multiplication Result:\", result)"
   ]
  },
  {
   "cell_type": "markdown",
   "metadata": {
    "id": "GIo2t7nNxvA9"
   },
   "source": [
    "## Matrix multiplication (Перемножение матриц)\n",
    "\n",
    "Если у нас есть матрица $M$ с элементами $m_{ij}$ в строке $i$ и столбце $j$, и матрица $N$ с элементами $n_{jk}$ в строке $j$ и столбце $k$, тогда их произведение $P = MN$ есть матрица $P$ с элементами $p_{ik}$ в строке $i$ и столбце $k$, где\n",
    "\n",
    "$$p_{ik} =\\sum_{j} m_{ij}n_{jk}$$\n",
    "\n",
    "Необходимым требованием является одинаковое количество столбцов в $M$ и строк в $N$, чтобы операция суммирования по  $j$ была осмысленной. Мы можем размышлять о матрице, как об отношении с тремя атрибутами: номер строки, номер столбца, само значение. Таким образом матрица $M$ предстваляется как отношение $ M(I, J, V )$, с кортежами $(i, j, m_{ij})$, и, аналогично, матрица $N$ представляется как отношение $N(J, K, W)$, с кортежами $(j, k, n_{jk})$. Так как большие матрицы как правило разреженные (большинство значений равно 0), и так как мы можем нулевыми значениями пренебречь (не хранить), такое реляционное представление достаточно эффективно для больших матриц. Однако, возможно, что координаты $i$, $j$, и $k$ неявно закодированы в смещение позиции элемента относительно начала файла, вместо явного хранения. Тогда, функция Map (или Reader) должна быть разработана таким образом, чтобы реконструировать компоненты $I$, $J$, и $K$ кортежей из смещения.\n",
    "\n",
    "Произведение $MN$ это фактически join, за которым следуют группировка по ключу и аггрегация. Таким образом join отношений $M(I, J, V )$ и $N(J, K, W)$, имеющих общим только атрибут $J$, создаст кортежи $(i, j, k, v, w)$ из каждого кортежа $(i, j, v) \\in M$ и кортежа $(j, k, w) \\in N$. Такой 5 компонентный кортеж представляет пару элементов матрицы $(m_{ij} , n_{jk})$. Что нам хотелось бы получить на самом деле, это произведение этих элементов, то есть, 4 компонентный кортеж$(i, j, k, v \\times w)$, так как он представляет произведение $m_{ij}n_{jk}$. Мы представляем отношение как результат одной MapReduce операции, в которой мы можем произвести группировку и аггрегацию, с $I$ и $K$  атрибутами, по которым идёт группировка, и суммой  $V \\times W$. \n",
    "\n",
    "\n",
    "\n"
   ]
  },
  {
   "cell_type": "code",
   "execution_count": 37,
   "metadata": {
    "id": "1MBkGaLAYVCt"
   },
   "outputs": [],
   "source": [
    "# MapReduce model\n",
    "def flatten(nested_iterable):\n",
    "  for iterable in nested_iterable:\n",
    "    for element in iterable:\n",
    "      yield element\n",
    "\n",
    "def groupbykey(iterable):\n",
    "  t = {}\n",
    "  for (k2, v2) in iterable:\n",
    "    t[k2] = t.get(k2, []) + [v2]\n",
    "  return t.items()\n",
    "\n",
    "def MapReduce(RECORDREADER, MAP, REDUCE):\n",
    "  return flatten(map(lambda x: REDUCE(*x), groupbykey(flatten(map(lambda x: MAP(*x), RECORDREADER())))))"
   ]
  },
  {
   "cell_type": "markdown",
   "metadata": {
    "id": "sMspsOT0ZB35"
   },
   "source": [
    "Реализуйте перемножение матриц с использованием модельного кода MapReduce для одной машины в случае, когда одна матрица хранится в памяти, а другая генерируется RECORDREADER-ом."
   ]
  },
  {
   "cell_type": "code",
   "execution_count": 38,
   "metadata": {
    "id": "psP1XekbsEjS"
   },
   "outputs": [
    {
     "name": "stdout",
     "output_type": "stream",
     "text": [
      "Результат (MapReduce):\n",
      "[[1.06127062 0.42641858 0.71073421 0.87011492 0.84088963 0.55693987\n",
      "  0.75090908 0.47824752 0.77414151 0.97118095 1.08530508 1.13482988\n",
      "  1.09652394 0.6351541  0.60043162 0.27671249 1.27076398 0.5544196\n",
      "  0.39607333 0.68241971 0.68702705 0.71375306 1.29015371 0.98325024\n",
      "  0.763647   0.74349762 0.97314673 1.15165735 0.93828544 0.50095989\n",
      "  0.89803489 0.25120314 1.18145585 0.5263002  0.99282181 0.7452801\n",
      "  1.43195699 0.94672849 1.21775101 0.20733469]\n",
      " [1.01650868 0.28363733 0.98064373 1.17793803 0.51664101 0.75841389\n",
      "  0.57052586 0.45356341 0.80639585 0.89683788 0.53060164 0.50647092\n",
      "  0.94384142 0.71851593 0.62108481 0.55370551 1.27717183 0.60177518\n",
      "  0.72358405 0.47831795 0.60978919 0.2682104  1.07871876 0.97226589\n",
      "  0.68289339 0.63528846 0.62946369 0.83408056 0.84660571 0.38115743\n",
      "  0.59999573 0.74402473 0.89950082 0.19476933 1.21356648 1.06391726\n",
      "  0.63893097 0.45863286 0.60210542 0.36215977]]\n"
     ]
    }
   ],
   "source": [
    "import numpy as np\n",
    "\n",
    "I = 2\n",
    "J = 3\n",
    "K = 4 * 10\n",
    "small_mat = np.random.rand(I, J)\n",
    "big_mat = np.random.rand(J, K)\n",
    "\n",
    "def flatten(nested_iterable):\n",
    "    for iterable in nested_iterable:\n",
    "        for element in iterable:\n",
    "            yield element\n",
    "\n",
    "def groupbykey(iterable):\n",
    "    t = {}\n",
    "    for (k2, v2) in iterable:\n",
    "        t[k2] = t.get(k2, []) + [v2]\n",
    "    return t.items()\n",
    "\n",
    "def MapReduce(RECORDREADER, MAP, REDUCE):\n",
    "    return flatten(map(lambda x: REDUCE(*x), groupbykey(flatten(map(lambda x: MAP(*x), RECORDREADER())))))\n",
    "\n",
    "def RECORDREADER():\n",
    "    for j in range(big_mat.shape[0]):\n",
    "        for k in range(big_mat.shape[1]):\n",
    "            yield ((j, k), big_mat[j, k])\n",
    "\n",
    "def MAP(k1, v1):\n",
    "    (j, k) = k1\n",
    "    w = v1\n",
    "    for i in range(I):\n",
    "        yield ((i, k), small_mat[i, j] * w)\n",
    "\n",
    "def REDUCE(key, values):\n",
    "    (i, k) = key\n",
    "    yield ((i, k), sum(values))\n",
    "\n",
    "\n",
    "# Вызов функции MapReduce\n",
    "result = MapReduce(RECORDREADER, MAP, REDUCE)\n",
    "# Преобразование результата в массив NumPy для упрощения проверки\n",
    "output_mat = np.zeros((I, K))\n",
    "for (i, k), value in result:\n",
    "    output_mat[i, k] = value\n",
    "\n",
    "\n",
    "print(\"Результат (MapReduce):\")\n",
    "print(output_mat)\n"
   ]
  },
  {
   "cell_type": "markdown",
   "metadata": {
    "id": "rnt306LHhHrm"
   },
   "source": [
    "Проверьте своё решение"
   ]
  },
  {
   "cell_type": "code",
   "execution_count": 39,
   "metadata": {
    "colab": {
     "base_uri": "https://localhost:8080/",
     "height": 34
    },
    "id": "Ewy_ZNYqW5a2",
    "outputId": "9ce264f2-9412-44e2-9b0a-cc780573ab3a"
   },
   "outputs": [
    {
     "data": {
      "text/plain": [
       "True"
      ]
     },
     "execution_count": 39,
     "metadata": {},
     "output_type": "execute_result"
    }
   ],
   "source": [
    "# CHECK THE SOLUTION\n",
    "reference_solution = np.matmul(small_mat, big_mat) \n",
    "solution = MapReduce(RECORDREADER, MAP, REDUCE)\n",
    "\n",
    "def asmatrix(reduce_output):\n",
    "  reduce_output = list(reduce_output)\n",
    "  I = max(i for ((i,k), vw) in reduce_output)+1\n",
    "  K = max(k for ((i,k), vw) in reduce_output)+1\n",
    "  mat = np.empty(shape=(I,K))\n",
    "  for ((i,k), vw) in reduce_output:\n",
    "    mat[i,k] = vw\n",
    "  return mat\n",
    "\n",
    "np.allclose(reference_solution, asmatrix(solution)) # should return true"
   ]
  },
  {
   "cell_type": "code",
   "execution_count": 40,
   "metadata": {
    "colab": {
     "base_uri": "https://localhost:8080/",
     "height": 34
    },
    "id": "TK7v4CEcfxqf",
    "outputId": "2c865d0a-4065-4e6b-c83f-5508ed5eb4fa"
   },
   "outputs": [
    {
     "data": {
      "text/plain": [
       "1"
      ]
     },
     "execution_count": 40,
     "metadata": {},
     "output_type": "execute_result"
    }
   ],
   "source": [
    "reduce_output = list(MapReduce(RECORDREADER, MAP, REDUCE))\n",
    "max(i for ((i,k), vw) in reduce_output)"
   ]
  },
  {
   "cell_type": "markdown",
   "metadata": {
    "id": "i4yyg3kOZqJJ"
   },
   "source": [
    "Реализуйте перемножение матриц  с использованием модельного кода MapReduce для одной машины в случае, когда обе матрицы генерируются в RECORDREADER. Например, сначала одна, а потом другая."
   ]
  },
  {
   "cell_type": "code",
   "execution_count": 41,
   "metadata": {
    "id": "3B7rIAJCaHZq"
   },
   "outputs": [
    {
     "data": {
      "text/plain": [
       "True"
      ]
     },
     "execution_count": 41,
     "metadata": {},
     "output_type": "execute_result"
    }
   ],
   "source": [
    "import numpy as np\n",
    "\n",
    "rows = 2\n",
    "cols = 3\n",
    "depth = 4 * 10\n",
    "matrix_a = np.random.rand(rows, cols)\n",
    "matrix_b = np.random.rand(cols, depth)\n",
    "\n",
    "# Генерирует пары элементов из обеих матриц вместе с их индексами\n",
    "def generate_pairs():\n",
    "    for row in range(rows):\n",
    "        for col in range(cols):\n",
    "            for dep in range(depth):\n",
    "                yield (((row, col), matrix_a[row, col]), ((col, dep), matrix_b[col, dep]))\n",
    "\n",
    "# Перемножает элементы двух матриц\n",
    "# Группирует произведения по индексу, соответствующему клетке в результирующей матрице,\n",
    "# для каждого ключа (row, dep) генерируется cols произведений\n",
    "def multiply_elements(pair1, pair2):\n",
    "    (row, col), value_a = pair1\n",
    "    (col, dep), value_b = pair2\n",
    "\n",
    "    yield ((row, dep), value_a * value_b)\n",
    "\n",
    "# Суммирует произведения для вычисления элементов результирующей матрицы\n",
    "def aggregate_results(key, values):\n",
    "    (row, dep) = key\n",
    "    dep_result = (row, dep)\n",
    "\n",
    "    total_value = 0\n",
    "    for _ in range(cols):\n",
    "        total_value += values[_]\n",
    "\n",
    "    yield (dep_result, total_value)\n",
    "\n",
    "# Проверка решения\n",
    "expected_result = np.matmul(matrix_a, matrix_b)\n",
    "final_result = MapReduce(generate_pairs, multiply_elements, aggregate_results)\n",
    "\n",
    "def reconstruct_matrix(reduce_output):\n",
    "    reduce_output = list(reduce_output)\n",
    "    max_rows = max(i for ((i, k), vw) in reduce_output) + 1\n",
    "    max_depth = max(k for ((i, k), vw) in reduce_output) + 1\n",
    "    result_matrix = np.empty(shape=(max_rows, max_depth))\n",
    "    for (i, k), vw in reduce_output:\n",
    "        result_matrix[i, k] = vw\n",
    "    return result_matrix\n",
    "\n",
    "np.allclose(expected_result, reconstruct_matrix(final_result))  # должно вернуть true\n"
   ]
  },
  {
   "cell_type": "markdown",
   "metadata": {
    "id": "mXyzQi1DaIwo"
   },
   "source": [
    "Реализуйте перемножение матриц с использованием модельного кода MapReduce Distributed, когда каждая матрица генерируется в своём RECORDREADER. "
   ]
  },
  {
   "cell_type": "code",
   "execution_count": 42,
   "metadata": {
    "id": "TDM_s78Rb5eR"
   },
   "outputs": [
    {
     "name": "stdout",
     "output_type": "stream",
     "text": [
      "240 key-value pairs were sent over a network.\n",
      "[[1.06127062 0.42641858 0.71073421 0.87011492 0.84088963 0.55693987\n",
      "  0.75090908 0.47824752 0.77414151 0.97118095 1.08530508 1.13482988\n",
      "  1.09652394 0.6351541  0.60043162 0.27671249 1.27076398 0.5544196\n",
      "  0.39607333 0.68241971 0.68702705 0.71375306 1.29015371 0.98325024\n",
      "  0.763647   0.74349762 0.97314673 1.15165735 0.93828544 0.50095989\n",
      "  0.89803489 0.25120314 1.18145585 0.5263002  0.99282181 0.7452801\n",
      "  1.43195699 0.94672849 1.21775101 0.20733469]\n",
      " [1.01650868 0.28363733 0.98064373 1.17793803 0.51664101 0.75841389\n",
      "  0.57052586 0.45356341 0.80639585 0.89683788 0.53060164 0.50647092\n",
      "  0.94384142 0.71851593 0.62108481 0.55370551 1.27717183 0.60177518\n",
      "  0.72358405 0.47831795 0.60978919 0.2682104  1.07871876 0.97226589\n",
      "  0.68289339 0.63528846 0.62946369 0.83408056 0.84660571 0.38115743\n",
      "  0.59999573 0.74402473 0.89950082 0.19476933 1.21356648 1.06391726\n",
      "  0.63893097 0.45863286 0.60210542 0.36215977]]\n"
     ]
    },
    {
     "data": {
      "text/plain": [
       "True"
      ]
     },
     "execution_count": 42,
     "metadata": {},
     "output_type": "execute_result"
    }
   ],
   "source": [
    "maps = 2\n",
    "reducers = 2\n",
    "I = 2\n",
    "J = 3\n",
    "K = 4 * 10\n",
    "\n",
    "\n",
    "def INPUTFORMAT():\n",
    "    global maps\n",
    "    # генерируются пары элементов из обоих матриц\n",
    "    def RECORDREADER(i_range):\n",
    "        for i in i_range:\n",
    "            for j in range(J):\n",
    "                for k in range(K):\n",
    "                    yield (((i, j), small_mat[i, j]), ((j, k), big_mat[j, k]))\n",
    "\n",
    "    # Разделение происходит по строкам первой матрицы\n",
    "    split_size = int(np.ceil(I / maps))\n",
    "    for i in range(0, I, split_size):\n",
    "        yield RECORDREADER(range(i, i + split_size))\n",
    "\n",
    "\n",
    "# Возвращает произведения соответствующих элементов из обоих матриц, группируя их по индексу в результирующей матрице\n",
    "def MAP(element1, element2):\n",
    "    (i, j), v1 = element1\n",
    "    (j, k), v2 = element2\n",
    "\n",
    "    yield ((i, k), v1 * v2)\n",
    "\n",
    "\n",
    "# Суммирует полученные произведения\n",
    "def REDUCE(key, values):\n",
    "    (i, k) = key\n",
    "    k3 = (i, k)\n",
    "    v3 = 0\n",
    "    for j in range(J):\n",
    "        v3 += values[j]\n",
    "\n",
    "    yield (k3, v3)\n",
    "\n",
    "partitioned_output = MapReduceDistributed(INPUTFORMAT, MAP, REDUCE, COMBINER=None)\n",
    "partitioned_output = [\n",
    "    (partition_id, list(partition)) for (partition_id, partition) in partitioned_output\n",
    "]\n",
    "\n",
    "# Соединение полученных произведений с разных вычислительных узлов\n",
    "solution = []\n",
    "for output_part in partitioned_output:\n",
    "    for element in output_part[1]:\n",
    "        solution += [element]\n",
    "\n",
    "print(asmatrix(solution))\n",
    "np.allclose(reference_solution, asmatrix(solution)) \n"
   ]
  },
  {
   "cell_type": "markdown",
   "metadata": {
    "id": "ZuSA2P9Db6UM"
   },
   "source": [
    "Обобщите предыдущее решение на случай, когда каждая матрица генерируется несколькими RECORDREADER-ами, и проверьте его работоспособность. Будет ли работать решение, если RECORDREADER-ы будут генерировать случайное подмножество элементов матрицы?"
   ]
  },
  {
   "cell_type": "markdown",
   "metadata": {},
   "source": [
    "Да, написанное решение будет работать, так как каждая пара элементов (которые генерируют RECORDREADER-ы), идентифицируются по ее индексам."
   ]
  },
  {
   "cell_type": "code",
   "execution_count": null,
   "metadata": {
    "id": "ehN0FqRDcwU5"
   },
   "outputs": [
    {
     "name": "stdout",
     "output_type": "stream",
     "text": [
      "126 key-value pairs were sent over a network.\n",
      "[(0, [((0, 0), 0.3016559915461936), ((0, 1), 0.18694399994286143), ((0, 2), 0.2788654782407294), ((0, 3), 0.27757216096382875), ((0, 4), 0.3441335124358848), ((0, 5), 0.02967617656575322), ((0, 6), 0.21482290499938547), ((0, 7), 0.22601455297226242), ((0, 8), 0.09295291893000537), ((0, 9), 0.12992890858139267), ((0, 10), 0.3510662596884314), ((0, 11), 0.1854584550841563), ((0, 12), 0.11614165973563575), ((0, 13), 0.06508864340356206), ((0, 14), 0.23938246114051323), ((0, 15), 0.36187746490379014), ((0, 16), 0.2542387300134281), ((0, 17), 0.1330368862724118), ((0, 18), 0.12416968886522481), ((0, 19), 0.23502727502770474), ((0, 20), 0.241929635398574), ((0, 21), 0.28719347979375925), ((0, 22), 0.1672248493883784), ((0, 23), 0.34144746804385523), ((0, 24), 0.20006310053653295), ((0, 25), 0.3999331996302832), ((0, 26), 0.025879153945023103), ((0, 27), 0.06104820347141307), ((0, 28), 0.39386463114220943), ((0, 29), 0.33665531799926435), ((0, 30), 0.2976270872607678), ((0, 31), 0.09682556385277391), ((0, 32), 0.06734346946367044), ((0, 33), 0.014000608709976381), ((0, 34), 0.39261181436052983), ((0, 35), 0.142102179605903), ((0, 36), 0.36505712378957783), ((0, 37), 0.03902416590070831), ((0, 38), 0.047025905523218225), ((0, 39), 0.31372066736267357), ((1, 0), 0.08335210898092699), ((1, 1), 0.05165545221461859), ((1, 2), 0.07705474575259734), ((1, 3), 0.07669738264484473), ((1, 4), 0.09508928990774759), ((1, 5), 0.00819997604081107), ((1, 6), 0.05935881497770982), ((1, 7), 0.06245123643676961), ((1, 8), 0.025684296171397704), ((1, 9), 0.03590132087991606), ((1, 10), 0.09700491273880613), ((1, 11), 0.05124497372113942), ((1, 12), 0.032091695675893844), ((1, 13), 0.01798497576854398), ((1, 14), 0.06614499147467158), ((1, 15), 0.09999221211484968), ((1, 16), 0.07025000306684322), ((1, 17), 0.03676010208258428), ((1, 18), 0.034309961441084495), ((1, 19), 0.06494158773769843), ((1, 20), 0.06684881421415388), ((1, 21), 0.07935589843145993), ((1, 22), 0.04620675292771289), ((1, 23), 0.09434709525169425), ((1, 24), 0.055280457959773835), ((1, 25), 0.1105075867043385), ((1, 26), 0.007150801311464855), ((1, 27), 0.016868541157617975), ((1, 28), 0.10883074952506211), ((1, 29), 0.09302295177712804), ((1, 30), 0.08223886184351313), ((1, 31), 0.02675436648557413), ((1, 32), 0.018608018283071348), ((1, 33), 0.003868579758723484), ((1, 34), 0.108484577316168), ((1, 35), 0.03926497962207621), ((1, 36), 0.10087079991485287), ((1, 37), 0.010782966757507648), ((1, 38), 0.012993968334614773), ((1, 39), 0.08668576122605667), ((0, 0), 0.06099000426668323), ((0, 1), 0.051497050227300924), ((0, 2), 0.25421425596609504), ((0, 3), 0.24127814159047714), ((0, 4), 0.05905785312690995), ((0, 5), 0.0658380453805697), ((0, 6), 0.04377364768651444), ((0, 7), 0.32509609028430936), ((0, 8), 0.2946851222122177), ((0, 9), 0.11735035019629295), ((0, 10), 0.2087248037253974), ((0, 11), 0.4129774884895939), ((0, 12), 0.16327901323831634), ((0, 13), 0.29721796585668875), ((0, 14), 0.3421396239411349), ((0, 15), 0.2616548888607075), ((0, 16), 0.38083038979998723), ((0, 17), 0.0038662298982923378), ((0, 18), 0.35878209010717454), ((0, 19), 0.16410528074633135), ((0, 20), 0.3534590649120375), ((0, 21), 0.26503731235761874), ((0, 22), 0.27267743335080297), ((0, 23), 0.38435843527961416), ((0, 24), 0.10491113145202378), ((0, 25), 0.3914957873656962), ((0, 26), 0.23176529311300645), ((0, 27), 0.15375504269050774), ((0, 28), 0.3552747126039729), ((0, 29), 0.008250544749555212), ((0, 30), 0.39856478570914533), ((0, 31), 0.0784733719760943), ((0, 32), 0.06562849264664482), ((0, 33), 0.44461933739311593), ((0, 34), 0.3096760394664687), ((0, 35), 0.07022445118084032), ((0, 36), 0.10945801685056288), ((0, 37), 0.288419731892519), ((0, 38), 0.24806501881018764), ((0, 39), 0.4313158314924575), ((1, 0), 0.1002586857086209), ((1, 1), 0.0846536516227203), ((1, 2), 0.4178912183726213), ((1, 3), 0.39662613008364844), ((1, 4), 0.09708251059282567), ((1, 5), 0.10822815933276247), ((1, 6), 0.07195750252012267), ((1, 7), 0.5344106322471739), ((1, 8), 0.4844194291525991), ((1, 9), 0.19290688727749059), ((1, 10), 0.3431131830192316), ((1, 11), 0.6788748536919141), ((1, 12), 0.268406921230805), ((1, 13), 0.48858305527385215), ((1, 14), 0.5624277197160038), ((1, 15), 0.4301225353535529), ((1, 16), 0.6260297046758166), ((1, 17), 0.006355518956110488), ((1, 18), 0.5897855106330442), ((1, 19), 0.26976518469370125), ((1, 20), 0.581035232346052), ((1, 21), 0.4356827470372161), ((1, 22), 0.4482419934029345), ((1, 23), 0.6318292976937313), ((1, 24), 0.1724586230489908), ((1, 25), 0.6435620651888987), ((1, 26), 0.38098839243853955), ((1, 27), 0.2527509005216457), ((1, 28), 0.5840198927587219), ((1, 29), 0.013562694131871595), ((1, 30), 0.6551824690847841), ((1, 31), 0.1289987963116894), ((1, 32), 0.10788368515305771), ((1, 33), 0.7308894456336767), ((1, 34), 0.5090623141556243), ((1, 35), 0.11543877172421035), ((1, 36), 0.17993304053110715), ((1, 37), 0.47412003982713136), ((1, 38), 0.40778276793431434), ((1, 39), 0.709020419176738)]), (1, [((0, 0), 0.07044819471297065), ((0, 1), 0.2690985158448589), ((0, 2), 0.22947636380645534), ((0, 3), 0.7184217439773746), ((0, 4), 0.20100653126178136), ((0, 5), 0.28867077517073897), ((0, 6), 0.5482603612483118), ((0, 7), 0.5993614983024226), ((0, 8), 0.08963076090198278), ((0, 9), 0.5049583443050908), ((0, 10), 0.3610202621410658), ((0, 11), 0.04909296934524678), ((0, 12), 0.43776885116891573), ((0, 13), 0.2539602193043765), ((0, 14), 0.06450818687620602), ((0, 15), 0.6812377540310011), ((0, 16), 0.6085673239423309), ((0, 17), 0.41502967588602796), ((0, 18), 0.6405403614484472), ((0, 19), 0.7262056001461212), ((0, 20), 0.5190565426733917), ((0, 21), 0.6716297392376508), ((0, 22), 0.44529489273244477), ((0, 23), 0.6436674195945716), ((0, 24), 0.7849703877238033), ((0, 25), 0.12867487065617347), ((0, 26), 0.6145908347783405), ((0, 27), 0.5223084239642484), ((0, 28), 0.5127255598606241), ((0, 29), 0.32280817575800885), ((0, 30), 0.1505348755924594), ((0, 31), 0.6940396777329881), ((0, 32), 0.14505067356555637), ((0, 33), 0.4207116205400877), ((0, 34), 0.07817161339435655), ((0, 35), 0.7769277776366215), ((0, 36), 0.25438122592102774), ((0, 37), 0.2785931027985176), ((0, 38), 0.057262732174215104), ((0, 39), 0.6203250931265344), ((1, 0), 0.0811907386207695), ((1, 1), 0.3101329615643694), ((1, 2), 0.2644688845379908), ((1, 3), 0.8279728426313395), ((1, 4), 0.23165772816798774), ((1, 5), 0.33268976657008903), ((1, 6), 0.6318637953407295), ((1, 7), 0.6907572713011652), ((1, 8), 0.10329842674355603), ((1, 9), 0.5819587161018163), ((1, 10), 0.4160717227704948), ((1, 11), 0.056579085645377274), ((1, 12), 0.5045235937752991), ((1, 13), 0.29268624795318715), ((1, 14), 0.07434494753066388), ((1, 15), 0.7851187195283456), ((1, 16), 0.701366880054994), ((1, 17), 0.47831695435228944), ((1, 18), 0.738215440073427), ((1, 19), 0.8369436478341308), ((1, 20), 0.5982067284661946), ((1, 21), 0.7740455923754113), ((1, 22), 0.5131972705944587), ((1, 23), 0.7418193388195675), ((1, 24), 0.9046693933662044), ((1, 25), 0.14829631664902274), ((1, 26), 0.7083089073966228), ((1, 27), 0.6019544844589128), ((1, 28), 0.5909103431882143), ((1, 29), 0.3720327302835826), ((1, 30), 0.17348972230351775), ((1, 31), 0.7998727901665772), ((1, 32), 0.16716924219577417), ((1, 33), 0.4848653305760524), ((1, 34), 0.09009189031066109), ((1, 35), 0.8954003772320419), ((1, 36), 0.2931714532634071), ((1, 37), 0.32107536442944584), ((1, 38), 0.06599464386007656), ((1, 39), 0.7149175745545117)])]\n",
      "aa (0, [((0, 0), 0.3016559915461936), ((0, 1), 0.18694399994286143), ((0, 2), 0.2788654782407294), ((0, 3), 0.27757216096382875), ((0, 4), 0.3441335124358848), ((0, 5), 0.02967617656575322), ((0, 6), 0.21482290499938547), ((0, 7), 0.22601455297226242), ((0, 8), 0.09295291893000537), ((0, 9), 0.12992890858139267), ((0, 10), 0.3510662596884314), ((0, 11), 0.1854584550841563), ((0, 12), 0.11614165973563575), ((0, 13), 0.06508864340356206), ((0, 14), 0.23938246114051323), ((0, 15), 0.36187746490379014), ((0, 16), 0.2542387300134281), ((0, 17), 0.1330368862724118), ((0, 18), 0.12416968886522481), ((0, 19), 0.23502727502770474), ((0, 20), 0.241929635398574), ((0, 21), 0.28719347979375925), ((0, 22), 0.1672248493883784), ((0, 23), 0.34144746804385523), ((0, 24), 0.20006310053653295), ((0, 25), 0.3999331996302832), ((0, 26), 0.025879153945023103), ((0, 27), 0.06104820347141307), ((0, 28), 0.39386463114220943), ((0, 29), 0.33665531799926435), ((0, 30), 0.2976270872607678), ((0, 31), 0.09682556385277391), ((0, 32), 0.06734346946367044), ((0, 33), 0.014000608709976381), ((0, 34), 0.39261181436052983), ((0, 35), 0.142102179605903), ((0, 36), 0.36505712378957783), ((0, 37), 0.03902416590070831), ((0, 38), 0.047025905523218225), ((0, 39), 0.31372066736267357), ((1, 0), 0.08335210898092699), ((1, 1), 0.05165545221461859), ((1, 2), 0.07705474575259734), ((1, 3), 0.07669738264484473), ((1, 4), 0.09508928990774759), ((1, 5), 0.00819997604081107), ((1, 6), 0.05935881497770982), ((1, 7), 0.06245123643676961), ((1, 8), 0.025684296171397704), ((1, 9), 0.03590132087991606), ((1, 10), 0.09700491273880613), ((1, 11), 0.05124497372113942), ((1, 12), 0.032091695675893844), ((1, 13), 0.01798497576854398), ((1, 14), 0.06614499147467158), ((1, 15), 0.09999221211484968), ((1, 16), 0.07025000306684322), ((1, 17), 0.03676010208258428), ((1, 18), 0.034309961441084495), ((1, 19), 0.06494158773769843), ((1, 20), 0.06684881421415388), ((1, 21), 0.07935589843145993), ((1, 22), 0.04620675292771289), ((1, 23), 0.09434709525169425), ((1, 24), 0.055280457959773835), ((1, 25), 0.1105075867043385), ((1, 26), 0.007150801311464855), ((1, 27), 0.016868541157617975), ((1, 28), 0.10883074952506211), ((1, 29), 0.09302295177712804), ((1, 30), 0.08223886184351313), ((1, 31), 0.02675436648557413), ((1, 32), 0.018608018283071348), ((1, 33), 0.003868579758723484), ((1, 34), 0.108484577316168), ((1, 35), 0.03926497962207621), ((1, 36), 0.10087079991485287), ((1, 37), 0.010782966757507648), ((1, 38), 0.012993968334614773), ((1, 39), 0.08668576122605667), ((0, 0), 0.06099000426668323), ((0, 1), 0.051497050227300924), ((0, 2), 0.25421425596609504), ((0, 3), 0.24127814159047714), ((0, 4), 0.05905785312690995), ((0, 5), 0.0658380453805697), ((0, 6), 0.04377364768651444), ((0, 7), 0.32509609028430936), ((0, 8), 0.2946851222122177), ((0, 9), 0.11735035019629295), ((0, 10), 0.2087248037253974), ((0, 11), 0.4129774884895939), ((0, 12), 0.16327901323831634), ((0, 13), 0.29721796585668875), ((0, 14), 0.3421396239411349), ((0, 15), 0.2616548888607075), ((0, 16), 0.38083038979998723), ((0, 17), 0.0038662298982923378), ((0, 18), 0.35878209010717454), ((0, 19), 0.16410528074633135), ((0, 20), 0.3534590649120375), ((0, 21), 0.26503731235761874), ((0, 22), 0.27267743335080297), ((0, 23), 0.38435843527961416), ((0, 24), 0.10491113145202378), ((0, 25), 0.3914957873656962), ((0, 26), 0.23176529311300645), ((0, 27), 0.15375504269050774), ((0, 28), 0.3552747126039729), ((0, 29), 0.008250544749555212), ((0, 30), 0.39856478570914533), ((0, 31), 0.0784733719760943), ((0, 32), 0.06562849264664482), ((0, 33), 0.44461933739311593), ((0, 34), 0.3096760394664687), ((0, 35), 0.07022445118084032), ((0, 36), 0.10945801685056288), ((0, 37), 0.288419731892519), ((0, 38), 0.24806501881018764), ((0, 39), 0.4313158314924575), ((1, 0), 0.1002586857086209), ((1, 1), 0.0846536516227203), ((1, 2), 0.4178912183726213), ((1, 3), 0.39662613008364844), ((1, 4), 0.09708251059282567), ((1, 5), 0.10822815933276247), ((1, 6), 0.07195750252012267), ((1, 7), 0.5344106322471739), ((1, 8), 0.4844194291525991), ((1, 9), 0.19290688727749059), ((1, 10), 0.3431131830192316), ((1, 11), 0.6788748536919141), ((1, 12), 0.268406921230805), ((1, 13), 0.48858305527385215), ((1, 14), 0.5624277197160038), ((1, 15), 0.4301225353535529), ((1, 16), 0.6260297046758166), ((1, 17), 0.006355518956110488), ((1, 18), 0.5897855106330442), ((1, 19), 0.26976518469370125), ((1, 20), 0.581035232346052), ((1, 21), 0.4356827470372161), ((1, 22), 0.4482419934029345), ((1, 23), 0.6318292976937313), ((1, 24), 0.1724586230489908), ((1, 25), 0.6435620651888987), ((1, 26), 0.38098839243853955), ((1, 27), 0.2527509005216457), ((1, 28), 0.5840198927587219), ((1, 29), 0.013562694131871595), ((1, 30), 0.6551824690847841), ((1, 31), 0.1289987963116894), ((1, 32), 0.10788368515305771), ((1, 33), 0.7308894456336767), ((1, 34), 0.5090623141556243), ((1, 35), 0.11543877172421035), ((1, 36), 0.17993304053110715), ((1, 37), 0.47412003982713136), ((1, 38), 0.40778276793431434), ((1, 39), 0.709020419176738)])\n",
      "aa (1, [((0, 0), 0.07044819471297065), ((0, 1), 0.2690985158448589), ((0, 2), 0.22947636380645534), ((0, 3), 0.7184217439773746), ((0, 4), 0.20100653126178136), ((0, 5), 0.28867077517073897), ((0, 6), 0.5482603612483118), ((0, 7), 0.5993614983024226), ((0, 8), 0.08963076090198278), ((0, 9), 0.5049583443050908), ((0, 10), 0.3610202621410658), ((0, 11), 0.04909296934524678), ((0, 12), 0.43776885116891573), ((0, 13), 0.2539602193043765), ((0, 14), 0.06450818687620602), ((0, 15), 0.6812377540310011), ((0, 16), 0.6085673239423309), ((0, 17), 0.41502967588602796), ((0, 18), 0.6405403614484472), ((0, 19), 0.7262056001461212), ((0, 20), 0.5190565426733917), ((0, 21), 0.6716297392376508), ((0, 22), 0.44529489273244477), ((0, 23), 0.6436674195945716), ((0, 24), 0.7849703877238033), ((0, 25), 0.12867487065617347), ((0, 26), 0.6145908347783405), ((0, 27), 0.5223084239642484), ((0, 28), 0.5127255598606241), ((0, 29), 0.32280817575800885), ((0, 30), 0.1505348755924594), ((0, 31), 0.6940396777329881), ((0, 32), 0.14505067356555637), ((0, 33), 0.4207116205400877), ((0, 34), 0.07817161339435655), ((0, 35), 0.7769277776366215), ((0, 36), 0.25438122592102774), ((0, 37), 0.2785931027985176), ((0, 38), 0.057262732174215104), ((0, 39), 0.6203250931265344), ((1, 0), 0.0811907386207695), ((1, 1), 0.3101329615643694), ((1, 2), 0.2644688845379908), ((1, 3), 0.8279728426313395), ((1, 4), 0.23165772816798774), ((1, 5), 0.33268976657008903), ((1, 6), 0.6318637953407295), ((1, 7), 0.6907572713011652), ((1, 8), 0.10329842674355603), ((1, 9), 0.5819587161018163), ((1, 10), 0.4160717227704948), ((1, 11), 0.056579085645377274), ((1, 12), 0.5045235937752991), ((1, 13), 0.29268624795318715), ((1, 14), 0.07434494753066388), ((1, 15), 0.7851187195283456), ((1, 16), 0.701366880054994), ((1, 17), 0.47831695435228944), ((1, 18), 0.738215440073427), ((1, 19), 0.8369436478341308), ((1, 20), 0.5982067284661946), ((1, 21), 0.7740455923754113), ((1, 22), 0.5131972705944587), ((1, 23), 0.7418193388195675), ((1, 24), 0.9046693933662044), ((1, 25), 0.14829631664902274), ((1, 26), 0.7083089073966228), ((1, 27), 0.6019544844589128), ((1, 28), 0.5909103431882143), ((1, 29), 0.3720327302835826), ((1, 30), 0.17348972230351775), ((1, 31), 0.7998727901665772), ((1, 32), 0.16716924219577417), ((1, 33), 0.4848653305760524), ((1, 34), 0.09009189031066109), ((1, 35), 0.8954003772320419), ((1, 36), 0.2931714532634071), ((1, 37), 0.32107536442944584), ((1, 38), 0.06599464386007656), ((1, 39), 0.7149175745545117)])\n",
      "240 key-value pairs were sent over a network.\n",
      "[(0, [((0, 1), 0.5075395660150213), ((0, 2), 0.7625560980132797), ((0, 4), 0.6041978968245761), ((0, 5), 0.3841849971170619), ((0, 8), 0.4772688020442059), ((0, 9), 0.7522376030827764), ((0, 11), 0.647528912918997), ((0, 12), 0.7171895241428679), ((0, 15), 1.3047701077954987), ((0, 16), 1.2436364437557463), ((0, 18), 1.1234921404208467), ((0, 19), 1.1253381559201574), ((0, 22), 0.8851971754716261), ((0, 23), 1.369473322918041), ((0, 25), 0.9201038576521529), ((0, 26), 0.8722352818363701), ((0, 29), 0.6677140385068284), ((0, 32), 0.2780226356758716), ((0, 33), 0.87933156664318), ((0, 36), 0.7288963665611685), ((0, 39), 1.3653615919816655), ((1, 0), 0.2648015333103174), ((1, 1), 0.44644206540170833), ((1, 3), 1.3012963553598327), ((1, 4), 0.423829528668561), ((1, 7), 1.2876191399851087), ((1, 10), 0.8561898185285326), ((1, 11), 0.7866989130584309), ((1, 14), 0.7029176587213393), ((1, 17), 0.5214325753909842), ((1, 18), 1.3623109121475556), ((1, 21), 1.2890842378440874), ((1, 24), 1.132408474374969), ((1, 25), 0.9023659685422599), ((1, 27), 0.8715739261381765), ((1, 28), 1.2837609854719982), ((1, 31), 0.9556259529638407), ((1, 32), 0.29366094563190326), ((1, 34), 0.7076387817824534), ((1, 35), 1.0501041285783286), ((1, 38), 0.48677138012900567), ((1, 39), 1.5106237549573063)]), (1, [((0, 0), 0.43309419052584747), ((0, 3), 1.2372720465316804), ((0, 6), 0.8068569139342117), ((0, 7), 1.1504721415589945), ((0, 10), 0.9208113255548946), ((0, 13), 0.6162668285646273), ((0, 14), 0.6460302719578541), ((0, 17), 0.5519327920567321), ((0, 20), 1.1144452429840033), ((0, 21), 1.223860531389029), ((0, 24), 1.0899446197123601), ((0, 27), 0.7371116701261692), ((0, 28), 1.2618649036068064), ((0, 30), 0.8467267485623725), ((0, 31), 0.8693386135618564), ((0, 34), 0.7804594672213551), ((0, 35), 0.9892544084233648), ((0, 37), 0.606037000591745), ((0, 38), 0.352353656507621), ((1, 2), 0.7594148486632094), ((1, 5), 0.4491179019436626), ((1, 6), 0.7631801128385619), ((1, 8), 0.6134021520675529), ((1, 9), 0.8107669242592229), ((1, 12), 0.805022210681998), ((1, 13), 0.7992542789955832), ((1, 15), 1.315233466996748), ((1, 16), 1.397646587797654), ((1, 19), 1.1716504202655305), ((1, 20), 1.2460907750264005), ((1, 22), 1.007646016925106), ((1, 23), 1.4679957317649932), ((1, 26), 1.0964481011466272), ((1, 29), 0.4786183761925822), ((1, 30), 0.910911053231815), ((1, 33), 1.2196233559684526), ((1, 36), 0.5739752937093672), ((1, 37), 0.8059783710140849)])]\n",
      "[((0, 1), 0.5075395660150213), ((0, 2), 0.7625560980132797), ((0, 4), 0.6041978968245761), ((0, 5), 0.3841849971170619), ((0, 8), 0.4772688020442059), ((0, 9), 0.7522376030827764), ((0, 11), 0.647528912918997), ((0, 12), 0.7171895241428679), ((0, 15), 1.3047701077954987), ((0, 16), 1.2436364437557463), ((0, 18), 1.1234921404208467), ((0, 19), 1.1253381559201574), ((0, 22), 0.8851971754716261), ((0, 23), 1.369473322918041), ((0, 25), 0.9201038576521529), ((0, 26), 0.8722352818363701), ((0, 29), 0.6677140385068284), ((0, 32), 0.2780226356758716), ((0, 33), 0.87933156664318), ((0, 36), 0.7288963665611685), ((0, 39), 1.3653615919816655), ((1, 0), 0.2648015333103174), ((1, 1), 0.44644206540170833), ((1, 3), 1.3012963553598327), ((1, 4), 0.423829528668561), ((1, 7), 1.2876191399851087), ((1, 10), 0.8561898185285326), ((1, 11), 0.7866989130584309), ((1, 14), 0.7029176587213393), ((1, 17), 0.5214325753909842), ((1, 18), 1.3623109121475556), ((1, 21), 1.2890842378440874), ((1, 24), 1.132408474374969), ((1, 25), 0.9023659685422599), ((1, 27), 0.8715739261381765), ((1, 28), 1.2837609854719982), ((1, 31), 0.9556259529638407), ((1, 32), 0.29366094563190326), ((1, 34), 0.7076387817824534), ((1, 35), 1.0501041285783286), ((1, 38), 0.48677138012900567), ((1, 39), 1.5106237549573063), ((0, 0), 0.43309419052584747), ((0, 3), 1.2372720465316804), ((0, 6), 0.8068569139342117), ((0, 7), 1.1504721415589945), ((0, 10), 0.9208113255548946), ((0, 13), 0.6162668285646273), ((0, 14), 0.6460302719578541), ((0, 17), 0.5519327920567321), ((0, 20), 1.1144452429840033), ((0, 21), 1.223860531389029), ((0, 24), 1.0899446197123601), ((0, 27), 0.7371116701261692), ((0, 28), 1.2618649036068064), ((0, 30), 0.8467267485623725), ((0, 31), 0.8693386135618564), ((0, 34), 0.7804594672213551), ((0, 35), 0.9892544084233648), ((0, 37), 0.606037000591745), ((0, 38), 0.352353656507621), ((1, 2), 0.7594148486632094), ((1, 5), 0.4491179019436626), ((1, 6), 0.7631801128385619), ((1, 8), 0.6134021520675529), ((1, 9), 0.8107669242592229), ((1, 12), 0.805022210681998), ((1, 13), 0.7992542789955832), ((1, 15), 1.315233466996748), ((1, 16), 1.397646587797654), ((1, 19), 1.1716504202655305), ((1, 20), 1.2460907750264005), ((1, 22), 1.007646016925106), ((1, 23), 1.4679957317649932), ((1, 26), 1.0964481011466272), ((1, 29), 0.4786183761925822), ((1, 30), 0.910911053231815), ((1, 33), 1.2196233559684526), ((1, 36), 0.5739752937093672), ((1, 37), 0.8059783710140849)]\n"
     ]
    },
    {
     "data": {
      "text/plain": [
       "True"
      ]
     },
     "execution_count": 46,
     "metadata": {},
     "output_type": "execute_result"
    }
   ],
   "source": [
    "I = 2  \n",
    "J = 3  \n",
    "K = 4*10  \n",
    "\n",
    "# Генерация случайных матриц\n",
    "small_mat = np.random.rand(I, J)  \n",
    "big_mat = np.random.rand(J, K) \n",
    "\n",
    "# Получение эталонного решения через умножение матриц\n",
    "reference_solution = np.matmul(small_mat, big_mat)\n",
    "\n",
    "# Функция для \"разглаживания\" вложенных итерируемых объектов\n",
    "def flatten(nested_iterable):\n",
    "  for iterable in nested_iterable:\n",
    "    for element in iterable:\n",
    "      yield element\n",
    "\n",
    "# Функция для группировки элементов по ключу\n",
    "def groupbykey(iterable):\n",
    "  t = {}\n",
    "  for (k2, v2) in iterable:\n",
    "    t[k2] = t.get(k2, []) + [v2]\n",
    "  return t.items()\n",
    "\n",
    "# Функция для распределенной группировки элементов по ключу\n",
    "def groupbykey_distributed(map_partitions, PARTITIONER):\n",
    "  global reducers\n",
    "  partitions = [dict() for _ in range(reducers)]\n",
    "  for map_partition in map_partitions:\n",
    "    for (k2, v2) in map_partition:\n",
    "      p = partitions[PARTITIONER(k2)]\n",
    "      p[k2] = p.get(k2, []) + [v2]\n",
    "  return [(partition_id, sorted(partition.items(), key=lambda x: x[0])) for (partition_id, partition) in enumerate(partitions)]\n",
    "\n",
    "# Функция для определения разделителя (по ключу)\n",
    "def PARTITIONER(obj):\n",
    "  global reducers\n",
    "  return hash(obj) % reducers\n",
    "\n",
    "# Функция для выполнения MapReduce на распределенных данных\n",
    "def MapReduceDistributed(INPUTFORMAT, MAP, REDUCE, PARTITIONER=PARTITIONER, COMBINER=None):\n",
    "  map_partitions = map(lambda record_reader: flatten(map(lambda k1v1: MAP(*k1v1), record_reader)), INPUTFORMAT())\n",
    "\n",
    "  if COMBINER != None:\n",
    "    map_partitions = map(lambda map_partition: flatten(map(lambda k2v2: COMBINER(*k2v2), groupbykey(map_partition))), map_partitions)\n",
    "\n",
    "  reduce_partitions = groupbykey_distributed(map_partitions, PARTITIONER) \n",
    "\n",
    "  reduce_outputs = map(lambda reduce_partition: (reduce_partition[0], flatten(map(lambda reduce_input_group: REDUCE(*reduce_input_group), reduce_partition[1]))), reduce_partitions)\n",
    "\n",
    "  print(\"{} key-value pairs were sent over a network.\".format(sum([len(vs) for (k,vs) in flatten([partition for (partition_id, partition) in reduce_partitions])])))\n",
    "  return reduce_outputs\n",
    "\n",
    "# Функция для преобразования результата REDUCE в матрицу\n",
    "def asmatrix(reduce_output):\n",
    "  reduce_output = list(reduce_output)\n",
    "  I = max(i for ((i,k), vw) in reduce_output) + 1\n",
    "  K = max(k for ((i,k), vw) in reduce_output) + 1\n",
    "  mat = np.empty(shape=(I,K))\n",
    "  for ((i,k), vw) in reduce_output:\n",
    "    mat[i,k] = vw\n",
    "  return mat\n",
    "\n",
    "# Генератор для вводных данных\n",
    "def INPUTFORMAT():\n",
    "  first_mat = []\n",
    "\n",
    "  for i in range(small_mat.shape[0]):\n",
    "    for j in range(small_mat.shape[1]):\n",
    "      first_mat.append(((0, i, j), small_mat[i,j]))  # первая матрица\n",
    "\n",
    "  global maps\n",
    "  split_size = int(np.ceil(len(first_mat)/maps))\n",
    "\n",
    "  for i in range(0, len(first_mat), split_size):\n",
    "    yield first_mat[i:i+split_size]\n",
    "\n",
    "  second_mat = []\n",
    "\n",
    "  for j in range(big_mat.shape[0]):\n",
    "    for k in range(big_mat.shape[1]):\n",
    "      second_mat.append(((1, j, k), big_mat[j,k]))  # вторая матрица\n",
    "\n",
    "  split_size = int(np.ceil(len(second_mat)/maps))\n",
    "\n",
    "  for i in range(0, len(second_mat), split_size):\n",
    "    yield second_mat[i:i+split_size]\n",
    "\n",
    "# MAP функция для соединения матриц\n",
    "def MAP_JOIN(k1, v1):\n",
    "  (mat_num, i, j) = k1\n",
    "  w = v1\n",
    "\n",
    "  if mat_num == 0:\n",
    "    yield (j, (mat_num, i, w))\n",
    "\n",
    "  else:\n",
    "    yield (i, (mat_num, j, w))\n",
    "\n",
    "# REDUCE функция для соединения матриц\n",
    "def REDUCE_JOIN(key, values):\n",
    "  from_first_mat = [v for v in values if v[0] == 0]\n",
    "  from_second_mat = [v for v in values if v[0] == 1]\n",
    "\n",
    "  for f in from_first_mat:\n",
    "    for s in from_second_mat:\n",
    "      yield ((f[1], s[1]), f[2] * s[2])\n",
    "\n",
    "# Генератор для получения соединенных данных\n",
    "def GET_JOINED():\n",
    "\n",
    "  for j in joined:\n",
    "    print(\"aa\", j)\n",
    "    yield j[1]\n",
    "\n",
    "# MAP функция для умножения значений\n",
    "def MAP_MUL(k1, v1):\n",
    "  yield (k1, v1)\n",
    "\n",
    "# REDUCE функция для умножения значений\n",
    "def REDUCE_MUL(key, values):\n",
    "  res_val = 0\n",
    "\n",
    "  for v in values:\n",
    "    res_val += v\n",
    "  yield (key, res_val)\n",
    "\n",
    "maps = 3\n",
    "reducers = 2\n",
    "\n",
    "# Выполнение MapReduce для соединения матриц\n",
    "partitioned_output = MapReduceDistributed(INPUTFORMAT, MAP_JOIN, REDUCE_JOIN, COMBINER=None)\n",
    "joined = [(partition_id, list(partition)) for (partition_id, partition) in partitioned_output]\n",
    "print(joined)\n",
    "\n",
    "# Выполнение MapReduce для умножения значений\n",
    "mul_output = MapReduceDistributed(GET_JOINED, MAP_MUL, REDUCE_MUL, COMBINER=None)\n",
    "pre_result = [(partition_id, list(partition)) for (partition_id, partition) in mul_output]\n",
    "print(pre_result)\n",
    "\n",
    "solution = []\n",
    "\n",
    "for p in pre_result:\n",
    "\n",
    "  for v in p[1]:\n",
    "    solution.append(v)\n",
    "\n",
    "print(solution)\n",
    "\n",
    "np.allclose(reference_solution, asmatrix(solution))"
   ]
  },
  {
   "cell_type": "code",
   "execution_count": null,
   "metadata": {},
   "outputs": [],
   "source": []
  }
 ],
 "metadata": {
  "colab": {
   "provenance": []
  },
  "kernelspec": {
   "display_name": "Python 3",
   "language": "python",
   "name": "python3"
  },
  "language_info": {
   "codemirror_mode": {
    "name": "ipython",
    "version": 3
   },
   "file_extension": ".py",
   "mimetype": "text/x-python",
   "name": "python",
   "nbconvert_exporter": "python",
   "pygments_lexer": "ipython3",
   "version": "3.12.2"
  }
 },
 "nbformat": 4,
 "nbformat_minor": 1
}
