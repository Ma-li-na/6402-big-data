{
  "nbformat": 4,
  "nbformat_minor": 0,
  "metadata": {
    "colab": {
      "provenance": []
    },
    "kernelspec": {
      "name": "python3",
      "display_name": "Python 3"
    },
    "language_info": {
      "name": "python"
    }
  },
  "cells": [
    {
      "cell_type": "code",
      "source": [
        "# Java\n",
        "!apt-get update\n",
        "!apt-get install openjdk-8-jdk-headless -qq > /dev/null"
      ],
      "metadata": {
        "id": "gVGHkqT6Um91"
      },
      "execution_count": null,
      "outputs": []
    },
    {
      "cell_type": "code",
      "source": [
        "# Spark\n",
        "!wget https://archive.apache.org/dist/spark/spark-3.1.1/spark-3.1.1-bin-hadoop3.2.tgz\n",
        "!tar xf spark-3.1.1-bin-hadoop3.2.tgz.1"
      ],
      "metadata": {
        "id": "RXwlNrSatkpp"
      },
      "execution_count": null,
      "outputs": []
    },
    {
      "cell_type": "code",
      "source": [
        "# Настройка переменных окружения\n",
        "import os\n",
        "os.environ[\"JAVA_HOME\"] = \"/usr/lib/jvm/java-8-openjdk-amd64\"\n",
        "os.environ[\"SPARK_HOME\"] = \"/content/spark-3.1.1-bin-hadoop3.2\""
      ],
      "metadata": {
        "id": "hk8dSwZFVMKS"
      },
      "execution_count": null,
      "outputs": []
    },
    {
      "cell_type": "code",
      "source": [
        "# Установка findspark\n",
        "!pip install -q findspark"
      ],
      "metadata": {
        "id": "7M4a4wKCVuW8"
      },
      "execution_count": null,
      "outputs": []
    },
    {
      "cell_type": "code",
      "source": [
        "# Инициализация findspark\n",
        "import findspark\n",
        "findspark.init()"
      ],
      "metadata": {
        "id": "t-Tr1OXI0Hqi"
      },
      "execution_count": null,
      "outputs": []
    },
    {
      "cell_type": "markdown",
      "source": [
        "**Проверка установки. Инициализация сессии, импорт необходимых далее библиотек**"
      ],
      "metadata": {
        "id": "7-_zTyxh01P9"
      }
    },
    {
      "cell_type": "code",
      "source": [
        "# Создание SparkContext (проверка установки)\n",
        "from pyspark import SparkContext, SparkConf\n",
        "import pyspark.sql as sql\n",
        "from pyspark.sql import SparkSession\n",
        "from pyspark.sql.types import DoubleType\n",
        "from pyspark.sql.functions import udf, col, max, sum, countDistinct\n",
        "\n",
        "spark = SparkSession.builder\\\n",
        "        .master(\"local\")\\\n",
        "        .appName(\"Colab\")\\\n",
        "        .config('spark.ui.port', '4050')\\\n",
        "        .getOrCreate()\n",
        "\n",
        "sc = spark.sparkContext\n",
        "\n",
        "print(sc.version)"
      ],
      "metadata": {
        "colab": {
          "base_uri": "https://localhost:8080/"
        },
        "id": "qc7olYVX0WOc",
        "outputId": "dafd4f22-3a83-451f-bf2a-27bb2298e82c"
      },
      "execution_count": null,
      "outputs": [
        {
          "output_type": "stream",
          "name": "stdout",
          "text": [
            "3.1.1\n"
          ]
        }
      ]
    },
    {
      "cell_type": "markdown",
      "source": [
        "**Загрузка данных**"
      ],
      "metadata": {
        "id": "otSzaWwIZRbC"
      }
    },
    {
      "cell_type": "code",
      "source": [
        "# Создаем SparkSession\n",
        "spark = SparkSession.builder.appName(\"MySparkApp\").getOrCreate()\n",
        "\n",
        "# Читаем файлы CSV\n",
        "trips_df = spark.read.csv(\"trips.csv\", header=True, inferSchema=True)  # header=True, чтобы использовать заголовки столбцов\n",
        "stations_df = spark.read.csv(\"stations.csv\", header=True, inferSchema=True)\n",
        "\n",
        "# Отображаем по 5 строк из каждого файла\n",
        "trips_df.show(n=5)\n",
        "stations_df.show(n=5)"
      ],
      "metadata": {
        "colab": {
          "base_uri": "https://localhost:8080/"
        },
        "id": "AZ-jZsqv2K6X",
        "outputId": "e4ca4c54-5ab9-484f-f233-1f16ea8fe3b9"
      },
      "execution_count": null,
      "outputs": [
        {
          "output_type": "stream",
          "name": "stdout",
          "text": [
            "+----+--------+---------------+--------------------+----------------+---------------+--------------------+--------------+-------+-----------------+--------+\n",
            "|  id|duration|     start_date|  start_station_name|start_station_id|       end_date|    end_station_name|end_station_id|bike_id|subscription_type|zip_code|\n",
            "+----+--------+---------------+--------------------+----------------+---------------+--------------------+--------------+-------+-----------------+--------+\n",
            "|4576|      63|           null|South Van Ness at...|              66|8/29/2013 14:14|South Van Ness at...|            66|    520|       Subscriber|   94127|\n",
            "|4607|    null|8/29/2013 14:42|  San Jose City Hall|              10|8/29/2013 14:43|  San Jose City Hall|            10|    661|       Subscriber|   95138|\n",
            "|4130|      71|8/29/2013 10:16|Mountain View Cit...|              27|8/29/2013 10:17|Mountain View Cit...|            27|     48|       Subscriber|   97214|\n",
            "|4251|      77|8/29/2013 11:29|  San Jose City Hall|              10|8/29/2013 11:30|  San Jose City Hall|            10|     26|       Subscriber|   95060|\n",
            "|4299|      83|8/29/2013 12:02|South Van Ness at...|              66|8/29/2013 12:04|      Market at 10th|            67|    319|       Subscriber|   94103|\n",
            "+----+--------+---------------+--------------------+----------------+---------------+--------------------+--------------+-------+-----------------+--------+\n",
            "only showing top 5 rows\n",
            "\n",
            "+---+--------------------+------------------+-------------------+----------+--------+-----------------+\n",
            "| id|                name|               lat|               long|dock_count|    city|installation_date|\n",
            "+---+--------------------+------------------+-------------------+----------+--------+-----------------+\n",
            "|  2|San Jose Diridon ...|         37.329732|-121.90178200000001|        27|San Jose|         8/6/2013|\n",
            "|  3|San Jose Civic Ce...|         37.330698|        -121.888979|        15|San Jose|         8/5/2013|\n",
            "|  4|Santa Clara at Al...|         37.333988|        -121.894902|        11|San Jose|         8/6/2013|\n",
            "|  5|    Adobe on Almaden|         37.331415|          -121.8932|        19|San Jose|         8/5/2013|\n",
            "|  6|    San Pedro Square|37.336721000000004|        -121.894074|        15|San Jose|         8/7/2013|\n",
            "+---+--------------------+------------------+-------------------+----------+--------+-----------------+\n",
            "only showing top 5 rows\n",
            "\n"
          ]
        }
      ]
    },
    {
      "cell_type": "code",
      "source": [
        "# выводит схему данных датафрейма spark соответственно (имена столбцов, типы данных и информация о том, допускает ли столбец значения NULL)\n",
        "print(\"Trips\")\n",
        "trips_df.printSchema()  # Используем trips_df\n",
        "\n",
        "print(\"Stations\")\n",
        "stations_df.printSchema() # Используем stations_df"
      ],
      "metadata": {
        "id": "HewVAOOGX0cv",
        "colab": {
          "base_uri": "https://localhost:8080/"
        },
        "outputId": "627d162f-4b59-4443-ca91-e075c652d061"
      },
      "execution_count": null,
      "outputs": [
        {
          "output_type": "stream",
          "name": "stdout",
          "text": [
            "Trips\n",
            "root\n",
            " |-- id: integer (nullable = true)\n",
            " |-- duration: integer (nullable = true)\n",
            " |-- start_date: string (nullable = true)\n",
            " |-- start_station_name: string (nullable = true)\n",
            " |-- start_station_id: integer (nullable = true)\n",
            " |-- end_date: string (nullable = true)\n",
            " |-- end_station_name: string (nullable = true)\n",
            " |-- end_station_id: integer (nullable = true)\n",
            " |-- bike_id: integer (nullable = true)\n",
            " |-- subscription_type: string (nullable = true)\n",
            " |-- zip_code: string (nullable = true)\n",
            "\n",
            "Stations\n",
            "root\n",
            " |-- id: integer (nullable = true)\n",
            " |-- name: string (nullable = true)\n",
            " |-- lat: double (nullable = true)\n",
            " |-- long: double (nullable = true)\n",
            " |-- dock_count: integer (nullable = true)\n",
            " |-- city: string (nullable = true)\n",
            " |-- installation_date: string (nullable = true)\n",
            "\n"
          ]
        }
      ]
    },
    {
      "cell_type": "markdown",
      "source": [
        "# Решите следующие задачи для данных велопарковок Сан-Франциско (trips.csv, stations.csv):\n",
        "1. Найти велосипед с максимальным временем пробега.\n",
        "2. Найти наибольшее геодезическое расстояние между станциями.\n",
        "3. Найти путь велосипеда с максимальным временем пробега через станции.\n",
        "4. Найти количество велосипедов в системе.\n",
        "5. Найти пользователей потративших на поездки более 3 часов."
      ],
      "metadata": {
        "id": "jyk4TfBwfEpi"
      }
    },
    {
      "cell_type": "markdown",
      "source": [
        "**1. Найти велосипед с максимальным временем пробега**"
      ],
      "metadata": {
        "id": "U-UY5hmKb-dg"
      }
    },
    {
      "cell_type": "code",
      "source": [
        "# Найдите максимальное время пробега (duration)\n",
        "max_duration = trips_df.agg(max(\"duration\")).collect()[0][0]\n",
        "\n",
        "# Найдите велосипед (bike_id) с этим максимальным временем пробега\n",
        "bike_with_max_duration_df = trips_df.filter(trips_df.duration == max_duration)\n",
        "\n",
        "# Выведите результаты\n",
        "print(\"Велосипед с максимальным временем пробега:\")\n",
        "bike_with_max_duration_df.show()  # Показать всю информацию о поездке/поездках\n",
        "\n",
        "# Получить ID велосипеда из DataFrame\n",
        "bike_id = bike_with_max_duration_df.select(\"bike_id\").first()[0]\n",
        "\n",
        "print(f\"ID велосипеда: {bike_id}\")\n",
        "print(f\"Максимальное время пробега: {max_duration}\")\n"
      ],
      "metadata": {
        "colab": {
          "base_uri": "https://localhost:8080/"
        },
        "id": "cOuBKrz6Zdcm",
        "outputId": "99b0cd44-1697-448c-fc64-c75a5b32d6ee"
      },
      "execution_count": null,
      "outputs": [
        {
          "output_type": "stream",
          "name": "stdout",
          "text": [
            "Велосипед с максимальным временем пробега:\n",
            "+------+--------+---------------+--------------------+----------------+---------------+----------------+--------------+-------+-----------------+--------+\n",
            "|    id|duration|     start_date|  start_station_name|start_station_id|       end_date|end_station_name|end_station_id|bike_id|subscription_type|zip_code|\n",
            "+------+--------+---------------+--------------------+----------------+---------------+----------------+--------------+-------+-----------------+--------+\n",
            "|568474|17270400|12/6/2014 21:59|South Van Ness at...|              66|6/24/2015 20:18|   2nd at Folsom|            62|    535|         Customer|   95531|\n",
            "+------+--------+---------------+--------------------+----------------+---------------+----------------+--------------+-------+-----------------+--------+\n",
            "\n",
            "ID велосипеда: 535\n",
            "Максимальное время пробега: 17270400\n"
          ]
        }
      ]
    },
    {
      "cell_type": "markdown",
      "source": [
        "**2. Найти наибольшее геодезическое расстояние между станциями**"
      ],
      "metadata": {
        "id": "iA_Bhllhb_vn"
      }
    },
    {
      "cell_type": "code",
      "source": [
        "from pyspark.sql import SparkSession\n",
        "from pyspark.sql.functions import max, radians, sin, cos, sqrt, atan2, col\n",
        "\n",
        "# Создаем SparkSession\n",
        "spark = SparkSession.builder.appName(\"MySparkApp\").getOrCreate()\n",
        "\n",
        "# Читаем файлы CSV\n",
        "stations_df = spark.read.csv(\"stations.csv\", header=True, inferSchema=True)\n",
        "\n",
        "# Создаем пары станций\n",
        "station_pairs = stations_df.alias(\"station1\").crossJoin(stations_df.alias(\"station2\")).filter(col(\"station1.id\") < col(\"station2.id\"))\n",
        "\n",
        "# Вычисляем максимальное расстояние между станциями\n",
        "max_distance = station_pairs.select(\n",
        "    (\n",
        "        2 * 6371.0 * atan2(\n",
        "            sqrt(\n",
        "                sin(radians(col(\"station2.lat\") - col(\"station1.lat\")) / 2)**2 +\n",
        "                cos(radians(col(\"station1.lat\"))) * cos(radians(col(\"station2.lat\"))) *\n",
        "                sin(radians(col(\"station2.long\") - col(\"station1.long\")) / 2)**2\n",
        "            ),\n",
        "            sqrt(1 - (\n",
        "                sin(radians(col(\"station2.lat\") - col(\"station1.lat\")) / 2)**2 +\n",
        "                cos(radians(col(\"station1.lat\"))) * cos(radians(col(\"station2.lat\"))) *\n",
        "                sin(radians(col(\"station2.long\") - col(\"station1.long\")) / 2)**2\n",
        "            ))\n",
        "        )\n",
        "    ).alias(\"distance\")\n",
        ").agg(max(\"distance\")).collect()[0][0]\n",
        "\n",
        "print(f\"Максимальное геодезическое расстояние между станциями равно {max_distance:.2f} километрам\")\n"
      ],
      "metadata": {
        "colab": {
          "base_uri": "https://localhost:8080/"
        },
        "id": "tHKJvVIn-7Wb",
        "outputId": "05bd94a0-8d1c-4693-8670-fda54caa98a6"
      },
      "execution_count": null,
      "outputs": [
        {
          "output_type": "stream",
          "name": "stdout",
          "text": [
            "Максимальное геодезическое расстояние между станциями равно 69.92 километрам\n"
          ]
        }
      ]
    },
    {
      "cell_type": "markdown",
      "source": [
        "**3. Найти путь велосипеда с максимальным временем пробега через станции**"
      ],
      "metadata": {
        "id": "LPSOWGmYcBwx"
      }
    },
    {
      "cell_type": "code",
      "source": [
        "# Сортировка по столбцу duration и выбор наиболее длительной поездки\n",
        "max_duration = trips_df.select(\"start_station_name\", \"end_station_name\", \"duration\").orderBy(col(\"duration\").desc()).first()\n",
        "\n",
        "# Получение стартовой и конечной станций, времени поездки\n",
        "start_location = max_duration[\"start_station_name\"]\n",
        "end_location = max_duration[\"end_station_name\"]\n",
        "trip_time = max_duration[\"duration\"]\n",
        "\n",
        "print(f\"Самая длинная поездка: {trip_time} секунд.\")\n",
        "print(f\"Велосипедист ехал из \\\"{start_location}\\\" в \\\"{end_location}\\\"\")"
      ],
      "metadata": {
        "colab": {
          "base_uri": "https://localhost:8080/"
        },
        "id": "8y3HP92wZnpG",
        "outputId": "0f422cb1-6c99-4688-9af2-31a6bbd70408"
      },
      "execution_count": null,
      "outputs": [
        {
          "output_type": "stream",
          "name": "stdout",
          "text": [
            "Самая длинная поездка: 17270400 секунд.\n",
            "Велосипедист ехал из \"South Van Ness at Market\" в \"2nd at Folsom\"\n"
          ]
        }
      ]
    },
    {
      "cell_type": "markdown",
      "source": [
        "**4. Найти количество велосипедов в системе**"
      ],
      "metadata": {
        "id": "7Rmfsa3zcDkx"
      }
    },
    {
      "cell_type": "code",
      "source": [
        "# Находим количество уникальных велосипедов в системе\n",
        "unique_bikes_count = trips_df.select(\"bike_id\").distinct().count()\n",
        "print(f\"Суммарное количество велосипедов: {unique_bikes_count}\")"
      ],
      "metadata": {
        "colab": {
          "base_uri": "https://localhost:8080/"
        },
        "id": "CjA9sJ9HZqra",
        "outputId": "f841824c-7b30-44bf-901c-ef99fc19b20a"
      },
      "execution_count": null,
      "outputs": [
        {
          "output_type": "stream",
          "name": "stdout",
          "text": [
            "Суммарное количество велосипедов: 700\n"
          ]
        }
      ]
    },
    {
      "cell_type": "markdown",
      "source": [
        "**5. Найти пользователей потративших на поездки более 3 часов**"
      ],
      "metadata": {
        "id": "Hdm1-biccJ1a"
      }
    },
    {
      "cell_type": "code",
      "source": [
        "# Фильтруем пользователей, отбираем потративших более 3 часов (10800 секунд) на поездки\n",
        "long_duration_trips = trips_df.filter(col(\"duration\") > 10800)\n",
        "# Отображаем результаты\n",
        "long_duration_trips.show()"
      ],
      "metadata": {
        "colab": {
          "base_uri": "https://localhost:8080/"
        },
        "id": "I5fYevzpZyqb",
        "outputId": "f3bcbc1b-c924-47cc-9cfa-8f2a84de533c"
      },
      "execution_count": null,
      "outputs": [
        {
          "output_type": "stream",
          "name": "stdout",
          "text": [
            "+----+--------+---------------+--------------------+----------------+---------------+--------------------+--------------+-------+-----------------+--------+\n",
            "|  id|duration|     start_date|  start_station_name|start_station_id|       end_date|    end_station_name|end_station_id|bike_id|subscription_type|zip_code|\n",
            "+----+--------+---------------+--------------------+----------------+---------------+--------------------+--------------+-------+-----------------+--------+\n",
            "|4639|   11118|8/29/2013 15:18|       Market at 4th|              76|8/29/2013 18:23|       Market at 4th|            76|    433|         Customer|    null|\n",
            "|4637|   11272|8/29/2013 15:17|       Market at 4th|              76|8/29/2013 18:25|       Market at 4th|            76|    377|         Customer|    null|\n",
            "|4528|   12280|8/29/2013 13:39|Paseo de San Antonio|               7|8/29/2013 17:04|    Adobe on Almaden|             5|    645|       Subscriber|   94536|\n",
            "|4363|   15244|8/29/2013 12:23|       Market at 4th|              76|8/29/2013 16:37|  Powell Street BART|            39|    434|         Customer|    null|\n",
            "|4193|   18192|8/29/2013 11:04|Embarcadero at Va...|              48|8/29/2013 16:08|   Market at Sansome|            77|    501|         Customer|   72150|\n",
            "|4190|   18240|8/29/2013 11:04|Embarcadero at Va...|              48|8/29/2013 16:08|   Market at Sansome|            77|    614|         Customer|   72150|\n",
            "|4225|   21612|8/29/2013 11:18|  Powell Street BART|              39|8/29/2013 17:18|      Market at 10th|            67|    464|         Customer|   58553|\n",
            "|4663|   52698|8/29/2013 15:34|Mountain View Cit...|              27| 8/30/2013 6:12|       Park at Olive|            38|    150|       Subscriber|   94301|\n",
            "|4532|   84990|8/29/2013 13:43|       Market at 4th|              76|8/30/2013 13:19|Harry Bridges Pla...|            50|    460|         Customer|   94118|\n",
            "|4521|   85385|8/29/2013 13:37|       Market at 4th|              76|8/30/2013 13:20|Harry Bridges Pla...|            50|    390|         Customer|   94118|\n",
            "|5069|   86102|8/29/2013 21:41|Embarcadero at Fo...|              51|8/30/2013 21:37|    Davis at Jackson|            42|    269|         Customer|   94111|\n",
            "|4505|   97713|8/29/2013 13:30|Mountain View Cal...|              28|8/30/2013 16:38|Mountain View Cit...|            27|    141|       Subscriber|   94039|\n",
            "|5539|   10805|8/30/2013 12:32|     Post at Kearney|              47|8/30/2013 15:32|Grant Avenue at C...|            73|    484|         Customer|   94133|\n",
            "|6032|   10963|8/30/2013 16:05|Embarcadero at Va...|              48|8/30/2013 19:08|Harry Bridges Pla...|            50|    458|         Customer|   94538|\n",
            "|6409|   12408|8/30/2013 19:54|    San Pedro Square|               6|8/30/2013 23:21|           Japantown|             9|    638|         Customer|   95112|\n",
            "|6408|   12459|8/30/2013 19:53|    San Pedro Square|               6|8/30/2013 23:21|           Japantown|             9|    640|         Customer|   93726|\n",
            "|5697|   12562|8/30/2013 13:38|Harry Bridges Pla...|              50|8/30/2013 17:08|Powell at Post (U...|            71|    627|         Customer|    1945|\n",
            "|5683|   12875|8/30/2013 13:33|Harry Bridges Pla...|              50|8/30/2013 17:07|Powell at Post (U...|            71|    552|         Customer|    1945|\n",
            "|5218|   13809| 8/30/2013 9:50|   Market at Sansome|              77|8/30/2013 13:40|Harry Bridges Pla...|            50|    608|         Customer|   75225|\n",
            "|5716|   14545|8/30/2013 13:53|Mechanics Plaza (...|              75|8/30/2013 17:56|Embarcadero at Sa...|            60|    439|         Customer|   94123|\n",
            "+----+--------+---------------+--------------------+----------------+---------------+--------------------+--------------+-------+-----------------+--------+\n",
            "only showing top 20 rows\n",
            "\n"
          ]
        }
      ]
    },
    {
      "cell_type": "code",
      "source": [
        "# Остановка SparkSession\n",
        "spark.stop()"
      ],
      "metadata": {
        "id": "_j7BRd-u3YAx"
      },
      "execution_count": null,
      "outputs": []
    }
  ]
}